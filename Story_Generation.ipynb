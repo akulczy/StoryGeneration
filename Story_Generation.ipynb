{
  "nbformat": 4,
  "nbformat_minor": 0,
  "metadata": {
    "colab": {
      "provenance": [],
      "collapsed_sections": [
        "ych1OkeVlSuZ",
        "4a81iqoMqADC",
        "IAkSZBxI5oVT",
        "X6IXgkNVPezf",
        "3AISkMU0h7dO",
        "93QHlfNe4_s8",
        "F6pmrnr05H9n",
        "EDGKDXsHSXYR"
      ],
      "authorship_tag": "ABX9TyPHpzRB3GEOKKZ1NK1yelCs",
      "include_colab_link": true
    },
    "kernelspec": {
      "name": "python3",
      "display_name": "Python 3"
    },
    "language_info": {
      "name": "python"
    },
    "accelerator": "GPU",
    "widgets": {
      "application/vnd.jupyter.widget-state+json": {
        "fbc412eca8a7423db484a4dcab10e39c": {
          "model_module": "@jupyter-widgets/controls",
          "model_name": "HBoxModel",
          "model_module_version": "1.5.0",
          "state": {
            "_dom_classes": [],
            "_model_module": "@jupyter-widgets/controls",
            "_model_module_version": "1.5.0",
            "_model_name": "HBoxModel",
            "_view_count": null,
            "_view_module": "@jupyter-widgets/controls",
            "_view_module_version": "1.5.0",
            "_view_name": "HBoxView",
            "box_style": "",
            "children": [
              "IPY_MODEL_56d4a67b7db14a4ab9e0872a6f5984ea",
              "IPY_MODEL_4b693b83c482466ab4f4a79dcc86dc16",
              "IPY_MODEL_601fc38310794344829fbbf5bf77b02b"
            ],
            "layout": "IPY_MODEL_d68e16764679415ba0a23f8faed56e28"
          }
        },
        "56d4a67b7db14a4ab9e0872a6f5984ea": {
          "model_module": "@jupyter-widgets/controls",
          "model_name": "HTMLModel",
          "model_module_version": "1.5.0",
          "state": {
            "_dom_classes": [],
            "_model_module": "@jupyter-widgets/controls",
            "_model_module_version": "1.5.0",
            "_model_name": "HTMLModel",
            "_view_count": null,
            "_view_module": "@jupyter-widgets/controls",
            "_view_module_version": "1.5.0",
            "_view_name": "HTMLView",
            "description": "",
            "description_tooltip": null,
            "layout": "IPY_MODEL_c9eb59baf4534062a6299df682c4b3cf",
            "placeholder": "​",
            "style": "IPY_MODEL_4ceb030dd80a44bab49dd1da34d3acc4",
            "value": "Downloading: 100%"
          }
        },
        "4b693b83c482466ab4f4a79dcc86dc16": {
          "model_module": "@jupyter-widgets/controls",
          "model_name": "FloatProgressModel",
          "model_module_version": "1.5.0",
          "state": {
            "_dom_classes": [],
            "_model_module": "@jupyter-widgets/controls",
            "_model_module_version": "1.5.0",
            "_model_name": "FloatProgressModel",
            "_view_count": null,
            "_view_module": "@jupyter-widgets/controls",
            "_view_module_version": "1.5.0",
            "_view_name": "ProgressView",
            "bar_style": "success",
            "description": "",
            "description_tooltip": null,
            "layout": "IPY_MODEL_dd5d7d93d65244f9974b90dfe2484a1c",
            "max": 665,
            "min": 0,
            "orientation": "horizontal",
            "style": "IPY_MODEL_9ee4f454a26f4a43a3cb15d123e36652",
            "value": 665
          }
        },
        "601fc38310794344829fbbf5bf77b02b": {
          "model_module": "@jupyter-widgets/controls",
          "model_name": "HTMLModel",
          "model_module_version": "1.5.0",
          "state": {
            "_dom_classes": [],
            "_model_module": "@jupyter-widgets/controls",
            "_model_module_version": "1.5.0",
            "_model_name": "HTMLModel",
            "_view_count": null,
            "_view_module": "@jupyter-widgets/controls",
            "_view_module_version": "1.5.0",
            "_view_name": "HTMLView",
            "description": "",
            "description_tooltip": null,
            "layout": "IPY_MODEL_358c049117f14251928fc6ee5a9f8e58",
            "placeholder": "​",
            "style": "IPY_MODEL_19c190a392f74e3084a8dbe3f5c87e1a",
            "value": " 665/665 [00:00&lt;00:00, 22.3kB/s]"
          }
        },
        "d68e16764679415ba0a23f8faed56e28": {
          "model_module": "@jupyter-widgets/base",
          "model_name": "LayoutModel",
          "model_module_version": "1.2.0",
          "state": {
            "_model_module": "@jupyter-widgets/base",
            "_model_module_version": "1.2.0",
            "_model_name": "LayoutModel",
            "_view_count": null,
            "_view_module": "@jupyter-widgets/base",
            "_view_module_version": "1.2.0",
            "_view_name": "LayoutView",
            "align_content": null,
            "align_items": null,
            "align_self": null,
            "border": null,
            "bottom": null,
            "display": null,
            "flex": null,
            "flex_flow": null,
            "grid_area": null,
            "grid_auto_columns": null,
            "grid_auto_flow": null,
            "grid_auto_rows": null,
            "grid_column": null,
            "grid_gap": null,
            "grid_row": null,
            "grid_template_areas": null,
            "grid_template_columns": null,
            "grid_template_rows": null,
            "height": null,
            "justify_content": null,
            "justify_items": null,
            "left": null,
            "margin": null,
            "max_height": null,
            "max_width": null,
            "min_height": null,
            "min_width": null,
            "object_fit": null,
            "object_position": null,
            "order": null,
            "overflow": null,
            "overflow_x": null,
            "overflow_y": null,
            "padding": null,
            "right": null,
            "top": null,
            "visibility": null,
            "width": null
          }
        },
        "c9eb59baf4534062a6299df682c4b3cf": {
          "model_module": "@jupyter-widgets/base",
          "model_name": "LayoutModel",
          "model_module_version": "1.2.0",
          "state": {
            "_model_module": "@jupyter-widgets/base",
            "_model_module_version": "1.2.0",
            "_model_name": "LayoutModel",
            "_view_count": null,
            "_view_module": "@jupyter-widgets/base",
            "_view_module_version": "1.2.0",
            "_view_name": "LayoutView",
            "align_content": null,
            "align_items": null,
            "align_self": null,
            "border": null,
            "bottom": null,
            "display": null,
            "flex": null,
            "flex_flow": null,
            "grid_area": null,
            "grid_auto_columns": null,
            "grid_auto_flow": null,
            "grid_auto_rows": null,
            "grid_column": null,
            "grid_gap": null,
            "grid_row": null,
            "grid_template_areas": null,
            "grid_template_columns": null,
            "grid_template_rows": null,
            "height": null,
            "justify_content": null,
            "justify_items": null,
            "left": null,
            "margin": null,
            "max_height": null,
            "max_width": null,
            "min_height": null,
            "min_width": null,
            "object_fit": null,
            "object_position": null,
            "order": null,
            "overflow": null,
            "overflow_x": null,
            "overflow_y": null,
            "padding": null,
            "right": null,
            "top": null,
            "visibility": null,
            "width": null
          }
        },
        "4ceb030dd80a44bab49dd1da34d3acc4": {
          "model_module": "@jupyter-widgets/controls",
          "model_name": "DescriptionStyleModel",
          "model_module_version": "1.5.0",
          "state": {
            "_model_module": "@jupyter-widgets/controls",
            "_model_module_version": "1.5.0",
            "_model_name": "DescriptionStyleModel",
            "_view_count": null,
            "_view_module": "@jupyter-widgets/base",
            "_view_module_version": "1.2.0",
            "_view_name": "StyleView",
            "description_width": ""
          }
        },
        "dd5d7d93d65244f9974b90dfe2484a1c": {
          "model_module": "@jupyter-widgets/base",
          "model_name": "LayoutModel",
          "model_module_version": "1.2.0",
          "state": {
            "_model_module": "@jupyter-widgets/base",
            "_model_module_version": "1.2.0",
            "_model_name": "LayoutModel",
            "_view_count": null,
            "_view_module": "@jupyter-widgets/base",
            "_view_module_version": "1.2.0",
            "_view_name": "LayoutView",
            "align_content": null,
            "align_items": null,
            "align_self": null,
            "border": null,
            "bottom": null,
            "display": null,
            "flex": null,
            "flex_flow": null,
            "grid_area": null,
            "grid_auto_columns": null,
            "grid_auto_flow": null,
            "grid_auto_rows": null,
            "grid_column": null,
            "grid_gap": null,
            "grid_row": null,
            "grid_template_areas": null,
            "grid_template_columns": null,
            "grid_template_rows": null,
            "height": null,
            "justify_content": null,
            "justify_items": null,
            "left": null,
            "margin": null,
            "max_height": null,
            "max_width": null,
            "min_height": null,
            "min_width": null,
            "object_fit": null,
            "object_position": null,
            "order": null,
            "overflow": null,
            "overflow_x": null,
            "overflow_y": null,
            "padding": null,
            "right": null,
            "top": null,
            "visibility": null,
            "width": null
          }
        },
        "9ee4f454a26f4a43a3cb15d123e36652": {
          "model_module": "@jupyter-widgets/controls",
          "model_name": "ProgressStyleModel",
          "model_module_version": "1.5.0",
          "state": {
            "_model_module": "@jupyter-widgets/controls",
            "_model_module_version": "1.5.0",
            "_model_name": "ProgressStyleModel",
            "_view_count": null,
            "_view_module": "@jupyter-widgets/base",
            "_view_module_version": "1.2.0",
            "_view_name": "StyleView",
            "bar_color": null,
            "description_width": ""
          }
        },
        "358c049117f14251928fc6ee5a9f8e58": {
          "model_module": "@jupyter-widgets/base",
          "model_name": "LayoutModel",
          "model_module_version": "1.2.0",
          "state": {
            "_model_module": "@jupyter-widgets/base",
            "_model_module_version": "1.2.0",
            "_model_name": "LayoutModel",
            "_view_count": null,
            "_view_module": "@jupyter-widgets/base",
            "_view_module_version": "1.2.0",
            "_view_name": "LayoutView",
            "align_content": null,
            "align_items": null,
            "align_self": null,
            "border": null,
            "bottom": null,
            "display": null,
            "flex": null,
            "flex_flow": null,
            "grid_area": null,
            "grid_auto_columns": null,
            "grid_auto_flow": null,
            "grid_auto_rows": null,
            "grid_column": null,
            "grid_gap": null,
            "grid_row": null,
            "grid_template_areas": null,
            "grid_template_columns": null,
            "grid_template_rows": null,
            "height": null,
            "justify_content": null,
            "justify_items": null,
            "left": null,
            "margin": null,
            "max_height": null,
            "max_width": null,
            "min_height": null,
            "min_width": null,
            "object_fit": null,
            "object_position": null,
            "order": null,
            "overflow": null,
            "overflow_x": null,
            "overflow_y": null,
            "padding": null,
            "right": null,
            "top": null,
            "visibility": null,
            "width": null
          }
        },
        "19c190a392f74e3084a8dbe3f5c87e1a": {
          "model_module": "@jupyter-widgets/controls",
          "model_name": "DescriptionStyleModel",
          "model_module_version": "1.5.0",
          "state": {
            "_model_module": "@jupyter-widgets/controls",
            "_model_module_version": "1.5.0",
            "_model_name": "DescriptionStyleModel",
            "_view_count": null,
            "_view_module": "@jupyter-widgets/base",
            "_view_module_version": "1.2.0",
            "_view_name": "StyleView",
            "description_width": ""
          }
        },
        "5070017e78db4575a627b7609f67721f": {
          "model_module": "@jupyter-widgets/controls",
          "model_name": "HBoxModel",
          "model_module_version": "1.5.0",
          "state": {
            "_dom_classes": [],
            "_model_module": "@jupyter-widgets/controls",
            "_model_module_version": "1.5.0",
            "_model_name": "HBoxModel",
            "_view_count": null,
            "_view_module": "@jupyter-widgets/controls",
            "_view_module_version": "1.5.0",
            "_view_name": "HBoxView",
            "box_style": "",
            "children": [
              "IPY_MODEL_34881dfc243a465a88380a18c66a48c3",
              "IPY_MODEL_d72fe39f66464e03824af0c6af746755",
              "IPY_MODEL_1cf0b74485514bcfa3f87d8aad211cef"
            ],
            "layout": "IPY_MODEL_21bec57dbb46471e90be54e56f6cbe75"
          }
        },
        "34881dfc243a465a88380a18c66a48c3": {
          "model_module": "@jupyter-widgets/controls",
          "model_name": "HTMLModel",
          "model_module_version": "1.5.0",
          "state": {
            "_dom_classes": [],
            "_model_module": "@jupyter-widgets/controls",
            "_model_module_version": "1.5.0",
            "_model_name": "HTMLModel",
            "_view_count": null,
            "_view_module": "@jupyter-widgets/controls",
            "_view_module_version": "1.5.0",
            "_view_name": "HTMLView",
            "description": "",
            "description_tooltip": null,
            "layout": "IPY_MODEL_2036575c99244adab8498b9dc23d7f70",
            "placeholder": "​",
            "style": "IPY_MODEL_becd4754c2fb470b865c0168ec184cc3",
            "value": "Downloading: 100%"
          }
        },
        "d72fe39f66464e03824af0c6af746755": {
          "model_module": "@jupyter-widgets/controls",
          "model_name": "FloatProgressModel",
          "model_module_version": "1.5.0",
          "state": {
            "_dom_classes": [],
            "_model_module": "@jupyter-widgets/controls",
            "_model_module_version": "1.5.0",
            "_model_name": "FloatProgressModel",
            "_view_count": null,
            "_view_module": "@jupyter-widgets/controls",
            "_view_module_version": "1.5.0",
            "_view_name": "ProgressView",
            "bar_style": "success",
            "description": "",
            "description_tooltip": null,
            "layout": "IPY_MODEL_fbb99e40fc2f4b25a03f269e8ed66e55",
            "max": 1042301,
            "min": 0,
            "orientation": "horizontal",
            "style": "IPY_MODEL_726bdf9050024cd6bf40df91490adf3b",
            "value": 1042301
          }
        },
        "1cf0b74485514bcfa3f87d8aad211cef": {
          "model_module": "@jupyter-widgets/controls",
          "model_name": "HTMLModel",
          "model_module_version": "1.5.0",
          "state": {
            "_dom_classes": [],
            "_model_module": "@jupyter-widgets/controls",
            "_model_module_version": "1.5.0",
            "_model_name": "HTMLModel",
            "_view_count": null,
            "_view_module": "@jupyter-widgets/controls",
            "_view_module_version": "1.5.0",
            "_view_name": "HTMLView",
            "description": "",
            "description_tooltip": null,
            "layout": "IPY_MODEL_d5ec4dd3986048e2b6497b32e744cb05",
            "placeholder": "​",
            "style": "IPY_MODEL_d3133f4ee8734d2ea9451cae9d0d9adb",
            "value": " 0.99M/0.99M [00:00&lt;00:00, 2.26MB/s]"
          }
        },
        "21bec57dbb46471e90be54e56f6cbe75": {
          "model_module": "@jupyter-widgets/base",
          "model_name": "LayoutModel",
          "model_module_version": "1.2.0",
          "state": {
            "_model_module": "@jupyter-widgets/base",
            "_model_module_version": "1.2.0",
            "_model_name": "LayoutModel",
            "_view_count": null,
            "_view_module": "@jupyter-widgets/base",
            "_view_module_version": "1.2.0",
            "_view_name": "LayoutView",
            "align_content": null,
            "align_items": null,
            "align_self": null,
            "border": null,
            "bottom": null,
            "display": null,
            "flex": null,
            "flex_flow": null,
            "grid_area": null,
            "grid_auto_columns": null,
            "grid_auto_flow": null,
            "grid_auto_rows": null,
            "grid_column": null,
            "grid_gap": null,
            "grid_row": null,
            "grid_template_areas": null,
            "grid_template_columns": null,
            "grid_template_rows": null,
            "height": null,
            "justify_content": null,
            "justify_items": null,
            "left": null,
            "margin": null,
            "max_height": null,
            "max_width": null,
            "min_height": null,
            "min_width": null,
            "object_fit": null,
            "object_position": null,
            "order": null,
            "overflow": null,
            "overflow_x": null,
            "overflow_y": null,
            "padding": null,
            "right": null,
            "top": null,
            "visibility": null,
            "width": null
          }
        },
        "2036575c99244adab8498b9dc23d7f70": {
          "model_module": "@jupyter-widgets/base",
          "model_name": "LayoutModel",
          "model_module_version": "1.2.0",
          "state": {
            "_model_module": "@jupyter-widgets/base",
            "_model_module_version": "1.2.0",
            "_model_name": "LayoutModel",
            "_view_count": null,
            "_view_module": "@jupyter-widgets/base",
            "_view_module_version": "1.2.0",
            "_view_name": "LayoutView",
            "align_content": null,
            "align_items": null,
            "align_self": null,
            "border": null,
            "bottom": null,
            "display": null,
            "flex": null,
            "flex_flow": null,
            "grid_area": null,
            "grid_auto_columns": null,
            "grid_auto_flow": null,
            "grid_auto_rows": null,
            "grid_column": null,
            "grid_gap": null,
            "grid_row": null,
            "grid_template_areas": null,
            "grid_template_columns": null,
            "grid_template_rows": null,
            "height": null,
            "justify_content": null,
            "justify_items": null,
            "left": null,
            "margin": null,
            "max_height": null,
            "max_width": null,
            "min_height": null,
            "min_width": null,
            "object_fit": null,
            "object_position": null,
            "order": null,
            "overflow": null,
            "overflow_x": null,
            "overflow_y": null,
            "padding": null,
            "right": null,
            "top": null,
            "visibility": null,
            "width": null
          }
        },
        "becd4754c2fb470b865c0168ec184cc3": {
          "model_module": "@jupyter-widgets/controls",
          "model_name": "DescriptionStyleModel",
          "model_module_version": "1.5.0",
          "state": {
            "_model_module": "@jupyter-widgets/controls",
            "_model_module_version": "1.5.0",
            "_model_name": "DescriptionStyleModel",
            "_view_count": null,
            "_view_module": "@jupyter-widgets/base",
            "_view_module_version": "1.2.0",
            "_view_name": "StyleView",
            "description_width": ""
          }
        },
        "fbb99e40fc2f4b25a03f269e8ed66e55": {
          "model_module": "@jupyter-widgets/base",
          "model_name": "LayoutModel",
          "model_module_version": "1.2.0",
          "state": {
            "_model_module": "@jupyter-widgets/base",
            "_model_module_version": "1.2.0",
            "_model_name": "LayoutModel",
            "_view_count": null,
            "_view_module": "@jupyter-widgets/base",
            "_view_module_version": "1.2.0",
            "_view_name": "LayoutView",
            "align_content": null,
            "align_items": null,
            "align_self": null,
            "border": null,
            "bottom": null,
            "display": null,
            "flex": null,
            "flex_flow": null,
            "grid_area": null,
            "grid_auto_columns": null,
            "grid_auto_flow": null,
            "grid_auto_rows": null,
            "grid_column": null,
            "grid_gap": null,
            "grid_row": null,
            "grid_template_areas": null,
            "grid_template_columns": null,
            "grid_template_rows": null,
            "height": null,
            "justify_content": null,
            "justify_items": null,
            "left": null,
            "margin": null,
            "max_height": null,
            "max_width": null,
            "min_height": null,
            "min_width": null,
            "object_fit": null,
            "object_position": null,
            "order": null,
            "overflow": null,
            "overflow_x": null,
            "overflow_y": null,
            "padding": null,
            "right": null,
            "top": null,
            "visibility": null,
            "width": null
          }
        },
        "726bdf9050024cd6bf40df91490adf3b": {
          "model_module": "@jupyter-widgets/controls",
          "model_name": "ProgressStyleModel",
          "model_module_version": "1.5.0",
          "state": {
            "_model_module": "@jupyter-widgets/controls",
            "_model_module_version": "1.5.0",
            "_model_name": "ProgressStyleModel",
            "_view_count": null,
            "_view_module": "@jupyter-widgets/base",
            "_view_module_version": "1.2.0",
            "_view_name": "StyleView",
            "bar_color": null,
            "description_width": ""
          }
        },
        "d5ec4dd3986048e2b6497b32e744cb05": {
          "model_module": "@jupyter-widgets/base",
          "model_name": "LayoutModel",
          "model_module_version": "1.2.0",
          "state": {
            "_model_module": "@jupyter-widgets/base",
            "_model_module_version": "1.2.0",
            "_model_name": "LayoutModel",
            "_view_count": null,
            "_view_module": "@jupyter-widgets/base",
            "_view_module_version": "1.2.0",
            "_view_name": "LayoutView",
            "align_content": null,
            "align_items": null,
            "align_self": null,
            "border": null,
            "bottom": null,
            "display": null,
            "flex": null,
            "flex_flow": null,
            "grid_area": null,
            "grid_auto_columns": null,
            "grid_auto_flow": null,
            "grid_auto_rows": null,
            "grid_column": null,
            "grid_gap": null,
            "grid_row": null,
            "grid_template_areas": null,
            "grid_template_columns": null,
            "grid_template_rows": null,
            "height": null,
            "justify_content": null,
            "justify_items": null,
            "left": null,
            "margin": null,
            "max_height": null,
            "max_width": null,
            "min_height": null,
            "min_width": null,
            "object_fit": null,
            "object_position": null,
            "order": null,
            "overflow": null,
            "overflow_x": null,
            "overflow_y": null,
            "padding": null,
            "right": null,
            "top": null,
            "visibility": null,
            "width": null
          }
        },
        "d3133f4ee8734d2ea9451cae9d0d9adb": {
          "model_module": "@jupyter-widgets/controls",
          "model_name": "DescriptionStyleModel",
          "model_module_version": "1.5.0",
          "state": {
            "_model_module": "@jupyter-widgets/controls",
            "_model_module_version": "1.5.0",
            "_model_name": "DescriptionStyleModel",
            "_view_count": null,
            "_view_module": "@jupyter-widgets/base",
            "_view_module_version": "1.2.0",
            "_view_name": "StyleView",
            "description_width": ""
          }
        },
        "c2ac674af3fb48ca8f054d8ce694085d": {
          "model_module": "@jupyter-widgets/controls",
          "model_name": "HBoxModel",
          "model_module_version": "1.5.0",
          "state": {
            "_dom_classes": [],
            "_model_module": "@jupyter-widgets/controls",
            "_model_module_version": "1.5.0",
            "_model_name": "HBoxModel",
            "_view_count": null,
            "_view_module": "@jupyter-widgets/controls",
            "_view_module_version": "1.5.0",
            "_view_name": "HBoxView",
            "box_style": "",
            "children": [
              "IPY_MODEL_9bff81a0689d4cffaf77e37cf4452a79",
              "IPY_MODEL_f137550e08424cd988303ee6ae3c2165",
              "IPY_MODEL_e379e3f3781a43879e1c042a8d91ba63"
            ],
            "layout": "IPY_MODEL_912473c0e3f0498d9cf5fcefea358adc"
          }
        },
        "9bff81a0689d4cffaf77e37cf4452a79": {
          "model_module": "@jupyter-widgets/controls",
          "model_name": "HTMLModel",
          "model_module_version": "1.5.0",
          "state": {
            "_dom_classes": [],
            "_model_module": "@jupyter-widgets/controls",
            "_model_module_version": "1.5.0",
            "_model_name": "HTMLModel",
            "_view_count": null,
            "_view_module": "@jupyter-widgets/controls",
            "_view_module_version": "1.5.0",
            "_view_name": "HTMLView",
            "description": "",
            "description_tooltip": null,
            "layout": "IPY_MODEL_83fad5c9f1944349930dcd7baab6416f",
            "placeholder": "​",
            "style": "IPY_MODEL_c8ae3021c0334acebd44cfa893be6ca5",
            "value": "Downloading: 100%"
          }
        },
        "f137550e08424cd988303ee6ae3c2165": {
          "model_module": "@jupyter-widgets/controls",
          "model_name": "FloatProgressModel",
          "model_module_version": "1.5.0",
          "state": {
            "_dom_classes": [],
            "_model_module": "@jupyter-widgets/controls",
            "_model_module_version": "1.5.0",
            "_model_name": "FloatProgressModel",
            "_view_count": null,
            "_view_module": "@jupyter-widgets/controls",
            "_view_module_version": "1.5.0",
            "_view_name": "ProgressView",
            "bar_style": "success",
            "description": "",
            "description_tooltip": null,
            "layout": "IPY_MODEL_8f2ba83559884c63915ffba6891aef19",
            "max": 456318,
            "min": 0,
            "orientation": "horizontal",
            "style": "IPY_MODEL_be6b9abf010346ababc2fc0fc578b121",
            "value": 456318
          }
        },
        "e379e3f3781a43879e1c042a8d91ba63": {
          "model_module": "@jupyter-widgets/controls",
          "model_name": "HTMLModel",
          "model_module_version": "1.5.0",
          "state": {
            "_dom_classes": [],
            "_model_module": "@jupyter-widgets/controls",
            "_model_module_version": "1.5.0",
            "_model_name": "HTMLModel",
            "_view_count": null,
            "_view_module": "@jupyter-widgets/controls",
            "_view_module_version": "1.5.0",
            "_view_name": "HTMLView",
            "description": "",
            "description_tooltip": null,
            "layout": "IPY_MODEL_b5ba18ac402841cea5cdd2d7a5e88d57",
            "placeholder": "​",
            "style": "IPY_MODEL_ee16c0b091834c81876332cac639aadb",
            "value": " 446k/446k [00:00&lt;00:00, 645kB/s]"
          }
        },
        "912473c0e3f0498d9cf5fcefea358adc": {
          "model_module": "@jupyter-widgets/base",
          "model_name": "LayoutModel",
          "model_module_version": "1.2.0",
          "state": {
            "_model_module": "@jupyter-widgets/base",
            "_model_module_version": "1.2.0",
            "_model_name": "LayoutModel",
            "_view_count": null,
            "_view_module": "@jupyter-widgets/base",
            "_view_module_version": "1.2.0",
            "_view_name": "LayoutView",
            "align_content": null,
            "align_items": null,
            "align_self": null,
            "border": null,
            "bottom": null,
            "display": null,
            "flex": null,
            "flex_flow": null,
            "grid_area": null,
            "grid_auto_columns": null,
            "grid_auto_flow": null,
            "grid_auto_rows": null,
            "grid_column": null,
            "grid_gap": null,
            "grid_row": null,
            "grid_template_areas": null,
            "grid_template_columns": null,
            "grid_template_rows": null,
            "height": null,
            "justify_content": null,
            "justify_items": null,
            "left": null,
            "margin": null,
            "max_height": null,
            "max_width": null,
            "min_height": null,
            "min_width": null,
            "object_fit": null,
            "object_position": null,
            "order": null,
            "overflow": null,
            "overflow_x": null,
            "overflow_y": null,
            "padding": null,
            "right": null,
            "top": null,
            "visibility": null,
            "width": null
          }
        },
        "83fad5c9f1944349930dcd7baab6416f": {
          "model_module": "@jupyter-widgets/base",
          "model_name": "LayoutModel",
          "model_module_version": "1.2.0",
          "state": {
            "_model_module": "@jupyter-widgets/base",
            "_model_module_version": "1.2.0",
            "_model_name": "LayoutModel",
            "_view_count": null,
            "_view_module": "@jupyter-widgets/base",
            "_view_module_version": "1.2.0",
            "_view_name": "LayoutView",
            "align_content": null,
            "align_items": null,
            "align_self": null,
            "border": null,
            "bottom": null,
            "display": null,
            "flex": null,
            "flex_flow": null,
            "grid_area": null,
            "grid_auto_columns": null,
            "grid_auto_flow": null,
            "grid_auto_rows": null,
            "grid_column": null,
            "grid_gap": null,
            "grid_row": null,
            "grid_template_areas": null,
            "grid_template_columns": null,
            "grid_template_rows": null,
            "height": null,
            "justify_content": null,
            "justify_items": null,
            "left": null,
            "margin": null,
            "max_height": null,
            "max_width": null,
            "min_height": null,
            "min_width": null,
            "object_fit": null,
            "object_position": null,
            "order": null,
            "overflow": null,
            "overflow_x": null,
            "overflow_y": null,
            "padding": null,
            "right": null,
            "top": null,
            "visibility": null,
            "width": null
          }
        },
        "c8ae3021c0334acebd44cfa893be6ca5": {
          "model_module": "@jupyter-widgets/controls",
          "model_name": "DescriptionStyleModel",
          "model_module_version": "1.5.0",
          "state": {
            "_model_module": "@jupyter-widgets/controls",
            "_model_module_version": "1.5.0",
            "_model_name": "DescriptionStyleModel",
            "_view_count": null,
            "_view_module": "@jupyter-widgets/base",
            "_view_module_version": "1.2.0",
            "_view_name": "StyleView",
            "description_width": ""
          }
        },
        "8f2ba83559884c63915ffba6891aef19": {
          "model_module": "@jupyter-widgets/base",
          "model_name": "LayoutModel",
          "model_module_version": "1.2.0",
          "state": {
            "_model_module": "@jupyter-widgets/base",
            "_model_module_version": "1.2.0",
            "_model_name": "LayoutModel",
            "_view_count": null,
            "_view_module": "@jupyter-widgets/base",
            "_view_module_version": "1.2.0",
            "_view_name": "LayoutView",
            "align_content": null,
            "align_items": null,
            "align_self": null,
            "border": null,
            "bottom": null,
            "display": null,
            "flex": null,
            "flex_flow": null,
            "grid_area": null,
            "grid_auto_columns": null,
            "grid_auto_flow": null,
            "grid_auto_rows": null,
            "grid_column": null,
            "grid_gap": null,
            "grid_row": null,
            "grid_template_areas": null,
            "grid_template_columns": null,
            "grid_template_rows": null,
            "height": null,
            "justify_content": null,
            "justify_items": null,
            "left": null,
            "margin": null,
            "max_height": null,
            "max_width": null,
            "min_height": null,
            "min_width": null,
            "object_fit": null,
            "object_position": null,
            "order": null,
            "overflow": null,
            "overflow_x": null,
            "overflow_y": null,
            "padding": null,
            "right": null,
            "top": null,
            "visibility": null,
            "width": null
          }
        },
        "be6b9abf010346ababc2fc0fc578b121": {
          "model_module": "@jupyter-widgets/controls",
          "model_name": "ProgressStyleModel",
          "model_module_version": "1.5.0",
          "state": {
            "_model_module": "@jupyter-widgets/controls",
            "_model_module_version": "1.5.0",
            "_model_name": "ProgressStyleModel",
            "_view_count": null,
            "_view_module": "@jupyter-widgets/base",
            "_view_module_version": "1.2.0",
            "_view_name": "StyleView",
            "bar_color": null,
            "description_width": ""
          }
        },
        "b5ba18ac402841cea5cdd2d7a5e88d57": {
          "model_module": "@jupyter-widgets/base",
          "model_name": "LayoutModel",
          "model_module_version": "1.2.0",
          "state": {
            "_model_module": "@jupyter-widgets/base",
            "_model_module_version": "1.2.0",
            "_model_name": "LayoutModel",
            "_view_count": null,
            "_view_module": "@jupyter-widgets/base",
            "_view_module_version": "1.2.0",
            "_view_name": "LayoutView",
            "align_content": null,
            "align_items": null,
            "align_self": null,
            "border": null,
            "bottom": null,
            "display": null,
            "flex": null,
            "flex_flow": null,
            "grid_area": null,
            "grid_auto_columns": null,
            "grid_auto_flow": null,
            "grid_auto_rows": null,
            "grid_column": null,
            "grid_gap": null,
            "grid_row": null,
            "grid_template_areas": null,
            "grid_template_columns": null,
            "grid_template_rows": null,
            "height": null,
            "justify_content": null,
            "justify_items": null,
            "left": null,
            "margin": null,
            "max_height": null,
            "max_width": null,
            "min_height": null,
            "min_width": null,
            "object_fit": null,
            "object_position": null,
            "order": null,
            "overflow": null,
            "overflow_x": null,
            "overflow_y": null,
            "padding": null,
            "right": null,
            "top": null,
            "visibility": null,
            "width": null
          }
        },
        "ee16c0b091834c81876332cac639aadb": {
          "model_module": "@jupyter-widgets/controls",
          "model_name": "DescriptionStyleModel",
          "model_module_version": "1.5.0",
          "state": {
            "_model_module": "@jupyter-widgets/controls",
            "_model_module_version": "1.5.0",
            "_model_name": "DescriptionStyleModel",
            "_view_count": null,
            "_view_module": "@jupyter-widgets/base",
            "_view_module_version": "1.2.0",
            "_view_name": "StyleView",
            "description_width": ""
          }
        },
        "c8e75a3f103e41feb2a46e8749cbc34a": {
          "model_module": "@jupyter-widgets/controls",
          "model_name": "HBoxModel",
          "model_module_version": "1.5.0",
          "state": {
            "_dom_classes": [],
            "_model_module": "@jupyter-widgets/controls",
            "_model_module_version": "1.5.0",
            "_model_name": "HBoxModel",
            "_view_count": null,
            "_view_module": "@jupyter-widgets/controls",
            "_view_module_version": "1.5.0",
            "_view_name": "HBoxView",
            "box_style": "",
            "children": [
              "IPY_MODEL_335f17a444e84a39b5def6730e7ecd0e",
              "IPY_MODEL_55c65c96c67444739d120ac84cdd7877",
              "IPY_MODEL_b8d24409b9974f678ac51c2697477aeb"
            ],
            "layout": "IPY_MODEL_3f3dc4feac89476a818a473707745088"
          }
        },
        "335f17a444e84a39b5def6730e7ecd0e": {
          "model_module": "@jupyter-widgets/controls",
          "model_name": "HTMLModel",
          "model_module_version": "1.5.0",
          "state": {
            "_dom_classes": [],
            "_model_module": "@jupyter-widgets/controls",
            "_model_module_version": "1.5.0",
            "_model_name": "HTMLModel",
            "_view_count": null,
            "_view_module": "@jupyter-widgets/controls",
            "_view_module_version": "1.5.0",
            "_view_name": "HTMLView",
            "description": "",
            "description_tooltip": null,
            "layout": "IPY_MODEL_eb783d9dab6c4a478e684c9e1a9a87ad",
            "placeholder": "​",
            "style": "IPY_MODEL_98f17b99aae84928809c5bbb2e80228b",
            "value": "Downloading: 100%"
          }
        },
        "55c65c96c67444739d120ac84cdd7877": {
          "model_module": "@jupyter-widgets/controls",
          "model_name": "FloatProgressModel",
          "model_module_version": "1.5.0",
          "state": {
            "_dom_classes": [],
            "_model_module": "@jupyter-widgets/controls",
            "_model_module_version": "1.5.0",
            "_model_name": "FloatProgressModel",
            "_view_count": null,
            "_view_module": "@jupyter-widgets/controls",
            "_view_module_version": "1.5.0",
            "_view_name": "ProgressView",
            "bar_style": "success",
            "description": "",
            "description_tooltip": null,
            "layout": "IPY_MODEL_eb4f8d6253694a3bb2428f78b3da5745",
            "max": 1355256,
            "min": 0,
            "orientation": "horizontal",
            "style": "IPY_MODEL_56e680ffb5964a2da8d804328c3f65cc",
            "value": 1355256
          }
        },
        "b8d24409b9974f678ac51c2697477aeb": {
          "model_module": "@jupyter-widgets/controls",
          "model_name": "HTMLModel",
          "model_module_version": "1.5.0",
          "state": {
            "_dom_classes": [],
            "_model_module": "@jupyter-widgets/controls",
            "_model_module_version": "1.5.0",
            "_model_name": "HTMLModel",
            "_view_count": null,
            "_view_module": "@jupyter-widgets/controls",
            "_view_module_version": "1.5.0",
            "_view_name": "HTMLView",
            "description": "",
            "description_tooltip": null,
            "layout": "IPY_MODEL_fa2b17a5b13c4b628181dac59c38a08e",
            "placeholder": "​",
            "style": "IPY_MODEL_61faf7b0784a478fbdfb1611d534d53d",
            "value": " 1.29M/1.29M [00:00&lt;00:00, 2.85MB/s]"
          }
        },
        "3f3dc4feac89476a818a473707745088": {
          "model_module": "@jupyter-widgets/base",
          "model_name": "LayoutModel",
          "model_module_version": "1.2.0",
          "state": {
            "_model_module": "@jupyter-widgets/base",
            "_model_module_version": "1.2.0",
            "_model_name": "LayoutModel",
            "_view_count": null,
            "_view_module": "@jupyter-widgets/base",
            "_view_module_version": "1.2.0",
            "_view_name": "LayoutView",
            "align_content": null,
            "align_items": null,
            "align_self": null,
            "border": null,
            "bottom": null,
            "display": null,
            "flex": null,
            "flex_flow": null,
            "grid_area": null,
            "grid_auto_columns": null,
            "grid_auto_flow": null,
            "grid_auto_rows": null,
            "grid_column": null,
            "grid_gap": null,
            "grid_row": null,
            "grid_template_areas": null,
            "grid_template_columns": null,
            "grid_template_rows": null,
            "height": null,
            "justify_content": null,
            "justify_items": null,
            "left": null,
            "margin": null,
            "max_height": null,
            "max_width": null,
            "min_height": null,
            "min_width": null,
            "object_fit": null,
            "object_position": null,
            "order": null,
            "overflow": null,
            "overflow_x": null,
            "overflow_y": null,
            "padding": null,
            "right": null,
            "top": null,
            "visibility": null,
            "width": null
          }
        },
        "eb783d9dab6c4a478e684c9e1a9a87ad": {
          "model_module": "@jupyter-widgets/base",
          "model_name": "LayoutModel",
          "model_module_version": "1.2.0",
          "state": {
            "_model_module": "@jupyter-widgets/base",
            "_model_module_version": "1.2.0",
            "_model_name": "LayoutModel",
            "_view_count": null,
            "_view_module": "@jupyter-widgets/base",
            "_view_module_version": "1.2.0",
            "_view_name": "LayoutView",
            "align_content": null,
            "align_items": null,
            "align_self": null,
            "border": null,
            "bottom": null,
            "display": null,
            "flex": null,
            "flex_flow": null,
            "grid_area": null,
            "grid_auto_columns": null,
            "grid_auto_flow": null,
            "grid_auto_rows": null,
            "grid_column": null,
            "grid_gap": null,
            "grid_row": null,
            "grid_template_areas": null,
            "grid_template_columns": null,
            "grid_template_rows": null,
            "height": null,
            "justify_content": null,
            "justify_items": null,
            "left": null,
            "margin": null,
            "max_height": null,
            "max_width": null,
            "min_height": null,
            "min_width": null,
            "object_fit": null,
            "object_position": null,
            "order": null,
            "overflow": null,
            "overflow_x": null,
            "overflow_y": null,
            "padding": null,
            "right": null,
            "top": null,
            "visibility": null,
            "width": null
          }
        },
        "98f17b99aae84928809c5bbb2e80228b": {
          "model_module": "@jupyter-widgets/controls",
          "model_name": "DescriptionStyleModel",
          "model_module_version": "1.5.0",
          "state": {
            "_model_module": "@jupyter-widgets/controls",
            "_model_module_version": "1.5.0",
            "_model_name": "DescriptionStyleModel",
            "_view_count": null,
            "_view_module": "@jupyter-widgets/base",
            "_view_module_version": "1.2.0",
            "_view_name": "StyleView",
            "description_width": ""
          }
        },
        "eb4f8d6253694a3bb2428f78b3da5745": {
          "model_module": "@jupyter-widgets/base",
          "model_name": "LayoutModel",
          "model_module_version": "1.2.0",
          "state": {
            "_model_module": "@jupyter-widgets/base",
            "_model_module_version": "1.2.0",
            "_model_name": "LayoutModel",
            "_view_count": null,
            "_view_module": "@jupyter-widgets/base",
            "_view_module_version": "1.2.0",
            "_view_name": "LayoutView",
            "align_content": null,
            "align_items": null,
            "align_self": null,
            "border": null,
            "bottom": null,
            "display": null,
            "flex": null,
            "flex_flow": null,
            "grid_area": null,
            "grid_auto_columns": null,
            "grid_auto_flow": null,
            "grid_auto_rows": null,
            "grid_column": null,
            "grid_gap": null,
            "grid_row": null,
            "grid_template_areas": null,
            "grid_template_columns": null,
            "grid_template_rows": null,
            "height": null,
            "justify_content": null,
            "justify_items": null,
            "left": null,
            "margin": null,
            "max_height": null,
            "max_width": null,
            "min_height": null,
            "min_width": null,
            "object_fit": null,
            "object_position": null,
            "order": null,
            "overflow": null,
            "overflow_x": null,
            "overflow_y": null,
            "padding": null,
            "right": null,
            "top": null,
            "visibility": null,
            "width": null
          }
        },
        "56e680ffb5964a2da8d804328c3f65cc": {
          "model_module": "@jupyter-widgets/controls",
          "model_name": "ProgressStyleModel",
          "model_module_version": "1.5.0",
          "state": {
            "_model_module": "@jupyter-widgets/controls",
            "_model_module_version": "1.5.0",
            "_model_name": "ProgressStyleModel",
            "_view_count": null,
            "_view_module": "@jupyter-widgets/base",
            "_view_module_version": "1.2.0",
            "_view_name": "StyleView",
            "bar_color": null,
            "description_width": ""
          }
        },
        "fa2b17a5b13c4b628181dac59c38a08e": {
          "model_module": "@jupyter-widgets/base",
          "model_name": "LayoutModel",
          "model_module_version": "1.2.0",
          "state": {
            "_model_module": "@jupyter-widgets/base",
            "_model_module_version": "1.2.0",
            "_model_name": "LayoutModel",
            "_view_count": null,
            "_view_module": "@jupyter-widgets/base",
            "_view_module_version": "1.2.0",
            "_view_name": "LayoutView",
            "align_content": null,
            "align_items": null,
            "align_self": null,
            "border": null,
            "bottom": null,
            "display": null,
            "flex": null,
            "flex_flow": null,
            "grid_area": null,
            "grid_auto_columns": null,
            "grid_auto_flow": null,
            "grid_auto_rows": null,
            "grid_column": null,
            "grid_gap": null,
            "grid_row": null,
            "grid_template_areas": null,
            "grid_template_columns": null,
            "grid_template_rows": null,
            "height": null,
            "justify_content": null,
            "justify_items": null,
            "left": null,
            "margin": null,
            "max_height": null,
            "max_width": null,
            "min_height": null,
            "min_width": null,
            "object_fit": null,
            "object_position": null,
            "order": null,
            "overflow": null,
            "overflow_x": null,
            "overflow_y": null,
            "padding": null,
            "right": null,
            "top": null,
            "visibility": null,
            "width": null
          }
        },
        "61faf7b0784a478fbdfb1611d534d53d": {
          "model_module": "@jupyter-widgets/controls",
          "model_name": "DescriptionStyleModel",
          "model_module_version": "1.5.0",
          "state": {
            "_model_module": "@jupyter-widgets/controls",
            "_model_module_version": "1.5.0",
            "_model_name": "DescriptionStyleModel",
            "_view_count": null,
            "_view_module": "@jupyter-widgets/base",
            "_view_module_version": "1.2.0",
            "_view_name": "StyleView",
            "description_width": ""
          }
        },
        "fd512a005d734eca9ad37686fb7ab8d8": {
          "model_module": "@jupyter-widgets/controls",
          "model_name": "HBoxModel",
          "model_module_version": "1.5.0",
          "state": {
            "_dom_classes": [],
            "_model_module": "@jupyter-widgets/controls",
            "_model_module_version": "1.5.0",
            "_model_name": "HBoxModel",
            "_view_count": null,
            "_view_module": "@jupyter-widgets/controls",
            "_view_module_version": "1.5.0",
            "_view_name": "HBoxView",
            "box_style": "",
            "children": [
              "IPY_MODEL_27fec6ca98d74def8e96ecbecd06077f",
              "IPY_MODEL_7b997d0c781d4c6bb0eecf7013967672",
              "IPY_MODEL_1225350e1bb643c18cfa077ef4ea6380"
            ],
            "layout": "IPY_MODEL_7a13669dd6a24aff9a2df81f1084a560"
          }
        },
        "27fec6ca98d74def8e96ecbecd06077f": {
          "model_module": "@jupyter-widgets/controls",
          "model_name": "HTMLModel",
          "model_module_version": "1.5.0",
          "state": {
            "_dom_classes": [],
            "_model_module": "@jupyter-widgets/controls",
            "_model_module_version": "1.5.0",
            "_model_name": "HTMLModel",
            "_view_count": null,
            "_view_module": "@jupyter-widgets/controls",
            "_view_module_version": "1.5.0",
            "_view_name": "HTMLView",
            "description": "",
            "description_tooltip": null,
            "layout": "IPY_MODEL_59f882fe8d494775ae551f80afe2f8d4",
            "placeholder": "​",
            "style": "IPY_MODEL_04ccef3939b246e69b5159284651eab4",
            "value": "Downloading: 100%"
          }
        },
        "7b997d0c781d4c6bb0eecf7013967672": {
          "model_module": "@jupyter-widgets/controls",
          "model_name": "FloatProgressModel",
          "model_module_version": "1.5.0",
          "state": {
            "_dom_classes": [],
            "_model_module": "@jupyter-widgets/controls",
            "_model_module_version": "1.5.0",
            "_model_name": "FloatProgressModel",
            "_view_count": null,
            "_view_module": "@jupyter-widgets/controls",
            "_view_module_version": "1.5.0",
            "_view_name": "ProgressView",
            "bar_style": "success",
            "description": "",
            "description_tooltip": null,
            "layout": "IPY_MODEL_caa9abe745f0456a9d10b0c5d7eabc16",
            "max": 548118077,
            "min": 0,
            "orientation": "horizontal",
            "style": "IPY_MODEL_da42facb72a94750966cb0650ec85833",
            "value": 548118077
          }
        },
        "1225350e1bb643c18cfa077ef4ea6380": {
          "model_module": "@jupyter-widgets/controls",
          "model_name": "HTMLModel",
          "model_module_version": "1.5.0",
          "state": {
            "_dom_classes": [],
            "_model_module": "@jupyter-widgets/controls",
            "_model_module_version": "1.5.0",
            "_model_name": "HTMLModel",
            "_view_count": null,
            "_view_module": "@jupyter-widgets/controls",
            "_view_module_version": "1.5.0",
            "_view_name": "HTMLView",
            "description": "",
            "description_tooltip": null,
            "layout": "IPY_MODEL_bbc1f4cee99b4f3f80204e381347f69a",
            "placeholder": "​",
            "style": "IPY_MODEL_c1efc1a15491491abee7fa283be02bfa",
            "value": " 523M/523M [00:11&lt;00:00, 60.6MB/s]"
          }
        },
        "7a13669dd6a24aff9a2df81f1084a560": {
          "model_module": "@jupyter-widgets/base",
          "model_name": "LayoutModel",
          "model_module_version": "1.2.0",
          "state": {
            "_model_module": "@jupyter-widgets/base",
            "_model_module_version": "1.2.0",
            "_model_name": "LayoutModel",
            "_view_count": null,
            "_view_module": "@jupyter-widgets/base",
            "_view_module_version": "1.2.0",
            "_view_name": "LayoutView",
            "align_content": null,
            "align_items": null,
            "align_self": null,
            "border": null,
            "bottom": null,
            "display": null,
            "flex": null,
            "flex_flow": null,
            "grid_area": null,
            "grid_auto_columns": null,
            "grid_auto_flow": null,
            "grid_auto_rows": null,
            "grid_column": null,
            "grid_gap": null,
            "grid_row": null,
            "grid_template_areas": null,
            "grid_template_columns": null,
            "grid_template_rows": null,
            "height": null,
            "justify_content": null,
            "justify_items": null,
            "left": null,
            "margin": null,
            "max_height": null,
            "max_width": null,
            "min_height": null,
            "min_width": null,
            "object_fit": null,
            "object_position": null,
            "order": null,
            "overflow": null,
            "overflow_x": null,
            "overflow_y": null,
            "padding": null,
            "right": null,
            "top": null,
            "visibility": null,
            "width": null
          }
        },
        "59f882fe8d494775ae551f80afe2f8d4": {
          "model_module": "@jupyter-widgets/base",
          "model_name": "LayoutModel",
          "model_module_version": "1.2.0",
          "state": {
            "_model_module": "@jupyter-widgets/base",
            "_model_module_version": "1.2.0",
            "_model_name": "LayoutModel",
            "_view_count": null,
            "_view_module": "@jupyter-widgets/base",
            "_view_module_version": "1.2.0",
            "_view_name": "LayoutView",
            "align_content": null,
            "align_items": null,
            "align_self": null,
            "border": null,
            "bottom": null,
            "display": null,
            "flex": null,
            "flex_flow": null,
            "grid_area": null,
            "grid_auto_columns": null,
            "grid_auto_flow": null,
            "grid_auto_rows": null,
            "grid_column": null,
            "grid_gap": null,
            "grid_row": null,
            "grid_template_areas": null,
            "grid_template_columns": null,
            "grid_template_rows": null,
            "height": null,
            "justify_content": null,
            "justify_items": null,
            "left": null,
            "margin": null,
            "max_height": null,
            "max_width": null,
            "min_height": null,
            "min_width": null,
            "object_fit": null,
            "object_position": null,
            "order": null,
            "overflow": null,
            "overflow_x": null,
            "overflow_y": null,
            "padding": null,
            "right": null,
            "top": null,
            "visibility": null,
            "width": null
          }
        },
        "04ccef3939b246e69b5159284651eab4": {
          "model_module": "@jupyter-widgets/controls",
          "model_name": "DescriptionStyleModel",
          "model_module_version": "1.5.0",
          "state": {
            "_model_module": "@jupyter-widgets/controls",
            "_model_module_version": "1.5.0",
            "_model_name": "DescriptionStyleModel",
            "_view_count": null,
            "_view_module": "@jupyter-widgets/base",
            "_view_module_version": "1.2.0",
            "_view_name": "StyleView",
            "description_width": ""
          }
        },
        "caa9abe745f0456a9d10b0c5d7eabc16": {
          "model_module": "@jupyter-widgets/base",
          "model_name": "LayoutModel",
          "model_module_version": "1.2.0",
          "state": {
            "_model_module": "@jupyter-widgets/base",
            "_model_module_version": "1.2.0",
            "_model_name": "LayoutModel",
            "_view_count": null,
            "_view_module": "@jupyter-widgets/base",
            "_view_module_version": "1.2.0",
            "_view_name": "LayoutView",
            "align_content": null,
            "align_items": null,
            "align_self": null,
            "border": null,
            "bottom": null,
            "display": null,
            "flex": null,
            "flex_flow": null,
            "grid_area": null,
            "grid_auto_columns": null,
            "grid_auto_flow": null,
            "grid_auto_rows": null,
            "grid_column": null,
            "grid_gap": null,
            "grid_row": null,
            "grid_template_areas": null,
            "grid_template_columns": null,
            "grid_template_rows": null,
            "height": null,
            "justify_content": null,
            "justify_items": null,
            "left": null,
            "margin": null,
            "max_height": null,
            "max_width": null,
            "min_height": null,
            "min_width": null,
            "object_fit": null,
            "object_position": null,
            "order": null,
            "overflow": null,
            "overflow_x": null,
            "overflow_y": null,
            "padding": null,
            "right": null,
            "top": null,
            "visibility": null,
            "width": null
          }
        },
        "da42facb72a94750966cb0650ec85833": {
          "model_module": "@jupyter-widgets/controls",
          "model_name": "ProgressStyleModel",
          "model_module_version": "1.5.0",
          "state": {
            "_model_module": "@jupyter-widgets/controls",
            "_model_module_version": "1.5.0",
            "_model_name": "ProgressStyleModel",
            "_view_count": null,
            "_view_module": "@jupyter-widgets/base",
            "_view_module_version": "1.2.0",
            "_view_name": "StyleView",
            "bar_color": null,
            "description_width": ""
          }
        },
        "bbc1f4cee99b4f3f80204e381347f69a": {
          "model_module": "@jupyter-widgets/base",
          "model_name": "LayoutModel",
          "model_module_version": "1.2.0",
          "state": {
            "_model_module": "@jupyter-widgets/base",
            "_model_module_version": "1.2.0",
            "_model_name": "LayoutModel",
            "_view_count": null,
            "_view_module": "@jupyter-widgets/base",
            "_view_module_version": "1.2.0",
            "_view_name": "LayoutView",
            "align_content": null,
            "align_items": null,
            "align_self": null,
            "border": null,
            "bottom": null,
            "display": null,
            "flex": null,
            "flex_flow": null,
            "grid_area": null,
            "grid_auto_columns": null,
            "grid_auto_flow": null,
            "grid_auto_rows": null,
            "grid_column": null,
            "grid_gap": null,
            "grid_row": null,
            "grid_template_areas": null,
            "grid_template_columns": null,
            "grid_template_rows": null,
            "height": null,
            "justify_content": null,
            "justify_items": null,
            "left": null,
            "margin": null,
            "max_height": null,
            "max_width": null,
            "min_height": null,
            "min_width": null,
            "object_fit": null,
            "object_position": null,
            "order": null,
            "overflow": null,
            "overflow_x": null,
            "overflow_y": null,
            "padding": null,
            "right": null,
            "top": null,
            "visibility": null,
            "width": null
          }
        },
        "c1efc1a15491491abee7fa283be02bfa": {
          "model_module": "@jupyter-widgets/controls",
          "model_name": "DescriptionStyleModel",
          "model_module_version": "1.5.0",
          "state": {
            "_model_module": "@jupyter-widgets/controls",
            "_model_module_version": "1.5.0",
            "_model_name": "DescriptionStyleModel",
            "_view_count": null,
            "_view_module": "@jupyter-widgets/base",
            "_view_module_version": "1.2.0",
            "_view_name": "StyleView",
            "description_width": ""
          }
        },
        "542a210bc39c4e3b8353804dfeec7333": {
          "model_module": "@jupyter-widgets/controls",
          "model_name": "DropdownModel",
          "model_module_version": "1.5.0",
          "state": {
            "_dom_classes": [],
            "_model_module": "@jupyter-widgets/controls",
            "_model_module_version": "1.5.0",
            "_model_name": "DropdownModel",
            "_options_labels": [
              "",
              "Human",
              "Elf",
              "Half-elf",
              "Dark-elf",
              "Dragonborn",
              "Ogre",
              "Half-Ogre",
              "Gnome",
              "Minotaur",
              "Dwarf",
              "Goblin"
            ],
            "_view_count": null,
            "_view_module": "@jupyter-widgets/controls",
            "_view_module_version": "1.5.0",
            "_view_name": "DropdownView",
            "description": "Race:",
            "description_tooltip": null,
            "disabled": false,
            "index": 0,
            "layout": "IPY_MODEL_3bbde623cb414c85bfd30c56fcaff2bd",
            "style": "IPY_MODEL_492e3dfeb3174191bc5610e3e053229d"
          }
        },
        "3bbde623cb414c85bfd30c56fcaff2bd": {
          "model_module": "@jupyter-widgets/base",
          "model_name": "LayoutModel",
          "model_module_version": "1.2.0",
          "state": {
            "_model_module": "@jupyter-widgets/base",
            "_model_module_version": "1.2.0",
            "_model_name": "LayoutModel",
            "_view_count": null,
            "_view_module": "@jupyter-widgets/base",
            "_view_module_version": "1.2.0",
            "_view_name": "LayoutView",
            "align_content": null,
            "align_items": null,
            "align_self": null,
            "border": null,
            "bottom": null,
            "display": null,
            "flex": null,
            "flex_flow": null,
            "grid_area": null,
            "grid_auto_columns": null,
            "grid_auto_flow": null,
            "grid_auto_rows": null,
            "grid_column": null,
            "grid_gap": null,
            "grid_row": null,
            "grid_template_areas": null,
            "grid_template_columns": null,
            "grid_template_rows": null,
            "height": null,
            "justify_content": null,
            "justify_items": null,
            "left": null,
            "margin": null,
            "max_height": null,
            "max_width": null,
            "min_height": null,
            "min_width": null,
            "object_fit": null,
            "object_position": null,
            "order": null,
            "overflow": null,
            "overflow_x": null,
            "overflow_y": null,
            "padding": null,
            "right": null,
            "top": null,
            "visibility": null,
            "width": null
          }
        },
        "492e3dfeb3174191bc5610e3e053229d": {
          "model_module": "@jupyter-widgets/controls",
          "model_name": "DescriptionStyleModel",
          "model_module_version": "1.5.0",
          "state": {
            "_model_module": "@jupyter-widgets/controls",
            "_model_module_version": "1.5.0",
            "_model_name": "DescriptionStyleModel",
            "_view_count": null,
            "_view_module": "@jupyter-widgets/base",
            "_view_module_version": "1.2.0",
            "_view_name": "StyleView",
            "description_width": ""
          }
        },
        "b7b08bf2e41c4de790d586d4d4bf94a7": {
          "model_module": "@jupyter-widgets/controls",
          "model_name": "DropdownModel",
          "model_module_version": "1.5.0",
          "state": {
            "_dom_classes": [],
            "_model_module": "@jupyter-widgets/controls",
            "_model_module_version": "1.5.0",
            "_model_name": "DropdownModel",
            "_options_labels": [
              "",
              "Ranger",
              "Cleric",
              "Monk",
              "Paladin",
              "Wizard",
              "Bard",
              "Druid",
              "Sorcerer",
              "Fighter",
              "Rogue",
              "Witch",
              "Knight",
              "Hunter",
              "Villager"
            ],
            "_view_count": null,
            "_view_module": "@jupyter-widgets/controls",
            "_view_module_version": "1.5.0",
            "_view_name": "DropdownView",
            "description": "Class:",
            "description_tooltip": null,
            "disabled": false,
            "index": 0,
            "layout": "IPY_MODEL_0ad3cb532a5444b9ad09464e9210feed",
            "style": "IPY_MODEL_c1e5dc3f9fd54cf5bad33e494d614393"
          }
        },
        "0ad3cb532a5444b9ad09464e9210feed": {
          "model_module": "@jupyter-widgets/base",
          "model_name": "LayoutModel",
          "model_module_version": "1.2.0",
          "state": {
            "_model_module": "@jupyter-widgets/base",
            "_model_module_version": "1.2.0",
            "_model_name": "LayoutModel",
            "_view_count": null,
            "_view_module": "@jupyter-widgets/base",
            "_view_module_version": "1.2.0",
            "_view_name": "LayoutView",
            "align_content": null,
            "align_items": null,
            "align_self": null,
            "border": null,
            "bottom": null,
            "display": null,
            "flex": null,
            "flex_flow": null,
            "grid_area": null,
            "grid_auto_columns": null,
            "grid_auto_flow": null,
            "grid_auto_rows": null,
            "grid_column": null,
            "grid_gap": null,
            "grid_row": null,
            "grid_template_areas": null,
            "grid_template_columns": null,
            "grid_template_rows": null,
            "height": null,
            "justify_content": null,
            "justify_items": null,
            "left": null,
            "margin": null,
            "max_height": null,
            "max_width": null,
            "min_height": null,
            "min_width": null,
            "object_fit": null,
            "object_position": null,
            "order": null,
            "overflow": null,
            "overflow_x": null,
            "overflow_y": null,
            "padding": null,
            "right": null,
            "top": null,
            "visibility": null,
            "width": null
          }
        },
        "c1e5dc3f9fd54cf5bad33e494d614393": {
          "model_module": "@jupyter-widgets/controls",
          "model_name": "DescriptionStyleModel",
          "model_module_version": "1.5.0",
          "state": {
            "_model_module": "@jupyter-widgets/controls",
            "_model_module_version": "1.5.0",
            "_model_name": "DescriptionStyleModel",
            "_view_count": null,
            "_view_module": "@jupyter-widgets/base",
            "_view_module_version": "1.2.0",
            "_view_name": "StyleView",
            "description_width": ""
          }
        },
        "c0d507f1329e4ed2a5ae19eb9760c3a6": {
          "model_module": "@jupyter-widgets/controls",
          "model_name": "ButtonModel",
          "model_module_version": "1.5.0",
          "state": {
            "_dom_classes": [],
            "_model_module": "@jupyter-widgets/controls",
            "_model_module_version": "1.5.0",
            "_model_name": "ButtonModel",
            "_view_count": null,
            "_view_module": "@jupyter-widgets/controls",
            "_view_module_version": "1.5.0",
            "_view_name": "ButtonView",
            "button_style": "",
            "description": "Generate Description",
            "disabled": false,
            "icon": "check",
            "layout": "IPY_MODEL_3e95bec17c564e5c84e464c0beda741f",
            "style": "IPY_MODEL_0a908fc6cf5d41ab876fd7a6d1733b05",
            "tooltip": "Generate"
          }
        },
        "3e95bec17c564e5c84e464c0beda741f": {
          "model_module": "@jupyter-widgets/base",
          "model_name": "LayoutModel",
          "model_module_version": "1.2.0",
          "state": {
            "_model_module": "@jupyter-widgets/base",
            "_model_module_version": "1.2.0",
            "_model_name": "LayoutModel",
            "_view_count": null,
            "_view_module": "@jupyter-widgets/base",
            "_view_module_version": "1.2.0",
            "_view_name": "LayoutView",
            "align_content": null,
            "align_items": null,
            "align_self": null,
            "border": null,
            "bottom": null,
            "display": null,
            "flex": null,
            "flex_flow": null,
            "grid_area": null,
            "grid_auto_columns": null,
            "grid_auto_flow": null,
            "grid_auto_rows": null,
            "grid_column": null,
            "grid_gap": null,
            "grid_row": null,
            "grid_template_areas": null,
            "grid_template_columns": null,
            "grid_template_rows": null,
            "height": null,
            "justify_content": null,
            "justify_items": null,
            "left": null,
            "margin": null,
            "max_height": null,
            "max_width": null,
            "min_height": null,
            "min_width": null,
            "object_fit": null,
            "object_position": null,
            "order": null,
            "overflow": null,
            "overflow_x": null,
            "overflow_y": null,
            "padding": null,
            "right": null,
            "top": null,
            "visibility": null,
            "width": null
          }
        },
        "0a908fc6cf5d41ab876fd7a6d1733b05": {
          "model_module": "@jupyter-widgets/controls",
          "model_name": "ButtonStyleModel",
          "model_module_version": "1.5.0",
          "state": {
            "_model_module": "@jupyter-widgets/controls",
            "_model_module_version": "1.5.0",
            "_model_name": "ButtonStyleModel",
            "_view_count": null,
            "_view_module": "@jupyter-widgets/base",
            "_view_module_version": "1.2.0",
            "_view_name": "StyleView",
            "button_color": null,
            "font_weight": ""
          }
        },
        "ebfc67351e4745c1a3c5de0d4d73e855": {
          "model_module": "@jupyter-widgets/controls",
          "model_name": "ButtonModel",
          "model_module_version": "1.5.0",
          "state": {
            "_dom_classes": [],
            "_model_module": "@jupyter-widgets/controls",
            "_model_module_version": "1.5.0",
            "_model_name": "ButtonModel",
            "_view_count": null,
            "_view_module": "@jupyter-widgets/controls",
            "_view_module_version": "1.5.0",
            "_view_name": "ButtonView",
            "button_style": "",
            "description": "Generate Story",
            "disabled": false,
            "icon": "check",
            "layout": "IPY_MODEL_289539d36ffd485d93f62de811d87286",
            "style": "IPY_MODEL_7c78ab02ea5841ec879a9154aa05d42b",
            "tooltip": "Generate"
          }
        },
        "289539d36ffd485d93f62de811d87286": {
          "model_module": "@jupyter-widgets/base",
          "model_name": "LayoutModel",
          "model_module_version": "1.2.0",
          "state": {
            "_model_module": "@jupyter-widgets/base",
            "_model_module_version": "1.2.0",
            "_model_name": "LayoutModel",
            "_view_count": null,
            "_view_module": "@jupyter-widgets/base",
            "_view_module_version": "1.2.0",
            "_view_name": "LayoutView",
            "align_content": null,
            "align_items": null,
            "align_self": null,
            "border": null,
            "bottom": null,
            "display": null,
            "flex": null,
            "flex_flow": null,
            "grid_area": null,
            "grid_auto_columns": null,
            "grid_auto_flow": null,
            "grid_auto_rows": null,
            "grid_column": null,
            "grid_gap": null,
            "grid_row": null,
            "grid_template_areas": null,
            "grid_template_columns": null,
            "grid_template_rows": null,
            "height": null,
            "justify_content": null,
            "justify_items": null,
            "left": null,
            "margin": null,
            "max_height": null,
            "max_width": null,
            "min_height": null,
            "min_width": null,
            "object_fit": null,
            "object_position": null,
            "order": null,
            "overflow": null,
            "overflow_x": null,
            "overflow_y": null,
            "padding": null,
            "right": null,
            "top": null,
            "visibility": null,
            "width": null
          }
        },
        "7c78ab02ea5841ec879a9154aa05d42b": {
          "model_module": "@jupyter-widgets/controls",
          "model_name": "ButtonStyleModel",
          "model_module_version": "1.5.0",
          "state": {
            "_model_module": "@jupyter-widgets/controls",
            "_model_module_version": "1.5.0",
            "_model_name": "ButtonStyleModel",
            "_view_count": null,
            "_view_module": "@jupyter-widgets/base",
            "_view_module_version": "1.2.0",
            "_view_name": "StyleView",
            "button_color": null,
            "font_weight": ""
          }
        },
        "6c757afc814946089533249199a61923": {
          "model_module": "@jupyter-widgets/controls",
          "model_name": "TextareaModel",
          "model_module_version": "1.5.0",
          "state": {
            "_dom_classes": [],
            "_model_module": "@jupyter-widgets/controls",
            "_model_module_version": "1.5.0",
            "_model_name": "TextareaModel",
            "_view_count": null,
            "_view_module": "@jupyter-widgets/controls",
            "_view_module_version": "1.5.0",
            "_view_name": "TextareaView",
            "continuous_update": true,
            "description": "Enter prompt",
            "description_tooltip": null,
            "disabled": false,
            "layout": "IPY_MODEL_7d26364546fe48f7bb4a74191943be49",
            "placeholder": "Enter prompt",
            "rows": null,
            "style": "IPY_MODEL_b4cebc3b97714278937ebcf813c22cb8",
            "value": ""
          }
        },
        "7d26364546fe48f7bb4a74191943be49": {
          "model_module": "@jupyter-widgets/base",
          "model_name": "LayoutModel",
          "model_module_version": "1.2.0",
          "state": {
            "_model_module": "@jupyter-widgets/base",
            "_model_module_version": "1.2.0",
            "_model_name": "LayoutModel",
            "_view_count": null,
            "_view_module": "@jupyter-widgets/base",
            "_view_module_version": "1.2.0",
            "_view_name": "LayoutView",
            "align_content": null,
            "align_items": null,
            "align_self": null,
            "border": null,
            "bottom": null,
            "display": null,
            "flex": null,
            "flex_flow": null,
            "grid_area": null,
            "grid_auto_columns": null,
            "grid_auto_flow": null,
            "grid_auto_rows": null,
            "grid_column": null,
            "grid_gap": null,
            "grid_row": null,
            "grid_template_areas": null,
            "grid_template_columns": null,
            "grid_template_rows": null,
            "height": null,
            "justify_content": null,
            "justify_items": null,
            "left": null,
            "margin": null,
            "max_height": null,
            "max_width": null,
            "min_height": null,
            "min_width": null,
            "object_fit": null,
            "object_position": null,
            "order": null,
            "overflow": null,
            "overflow_x": null,
            "overflow_y": null,
            "padding": null,
            "right": null,
            "top": null,
            "visibility": null,
            "width": null
          }
        },
        "b4cebc3b97714278937ebcf813c22cb8": {
          "model_module": "@jupyter-widgets/controls",
          "model_name": "DescriptionStyleModel",
          "model_module_version": "1.5.0",
          "state": {
            "_model_module": "@jupyter-widgets/controls",
            "_model_module_version": "1.5.0",
            "_model_name": "DescriptionStyleModel",
            "_view_count": null,
            "_view_module": "@jupyter-widgets/base",
            "_view_module_version": "1.2.0",
            "_view_name": "StyleView",
            "description_width": ""
          }
        },
        "53cc38f4701a4c4f8cd3c98867761cff": {
          "model_module": "@jupyter-widgets/controls",
          "model_name": "ButtonModel",
          "model_module_version": "1.5.0",
          "state": {
            "_dom_classes": [],
            "_model_module": "@jupyter-widgets/controls",
            "_model_module_version": "1.5.0",
            "_model_name": "ButtonModel",
            "_view_count": null,
            "_view_module": "@jupyter-widgets/controls",
            "_view_module_version": "1.5.0",
            "_view_name": "ButtonView",
            "button_style": "",
            "description": "Generate Story 2",
            "disabled": false,
            "icon": "check",
            "layout": "IPY_MODEL_64fbf52e2b6b4a298ba9e4f3af1cb8e6",
            "style": "IPY_MODEL_085f5576a52a49ce8e9a5d97844b1079",
            "tooltip": "Generate"
          }
        },
        "64fbf52e2b6b4a298ba9e4f3af1cb8e6": {
          "model_module": "@jupyter-widgets/base",
          "model_name": "LayoutModel",
          "model_module_version": "1.2.0",
          "state": {
            "_model_module": "@jupyter-widgets/base",
            "_model_module_version": "1.2.0",
            "_model_name": "LayoutModel",
            "_view_count": null,
            "_view_module": "@jupyter-widgets/base",
            "_view_module_version": "1.2.0",
            "_view_name": "LayoutView",
            "align_content": null,
            "align_items": null,
            "align_self": null,
            "border": null,
            "bottom": null,
            "display": null,
            "flex": null,
            "flex_flow": null,
            "grid_area": null,
            "grid_auto_columns": null,
            "grid_auto_flow": null,
            "grid_auto_rows": null,
            "grid_column": null,
            "grid_gap": null,
            "grid_row": null,
            "grid_template_areas": null,
            "grid_template_columns": null,
            "grid_template_rows": null,
            "height": null,
            "justify_content": null,
            "justify_items": null,
            "left": null,
            "margin": null,
            "max_height": null,
            "max_width": null,
            "min_height": null,
            "min_width": null,
            "object_fit": null,
            "object_position": null,
            "order": null,
            "overflow": null,
            "overflow_x": null,
            "overflow_y": null,
            "padding": null,
            "right": null,
            "top": null,
            "visibility": null,
            "width": null
          }
        },
        "085f5576a52a49ce8e9a5d97844b1079": {
          "model_module": "@jupyter-widgets/controls",
          "model_name": "ButtonStyleModel",
          "model_module_version": "1.5.0",
          "state": {
            "_model_module": "@jupyter-widgets/controls",
            "_model_module_version": "1.5.0",
            "_model_name": "ButtonStyleModel",
            "_view_count": null,
            "_view_module": "@jupyter-widgets/base",
            "_view_module_version": "1.2.0",
            "_view_name": "StyleView",
            "button_color": null,
            "font_weight": ""
          }
        }
      }
    }
  },
  "cells": [
    {
      "cell_type": "markdown",
      "metadata": {
        "id": "view-in-github",
        "colab_type": "text"
      },
      "source": [
        "<a href=\"https://colab.research.google.com/github/akulczy/StoryGeneration/blob/main/Story_Generation.ipynb\" target=\"_parent\"><img src=\"https://colab.research.google.com/assets/colab-badge.svg\" alt=\"Open In Colab\"/></a>"
      ]
    },
    {
      "cell_type": "markdown",
      "source": [
        "# **ECS7022P Computational Creativity Assignment**\n",
        "\n",
        "---\n",
        "\n",
        "### **Computational Creativity Assignment: Utilising a fine-tuned GPT-2 model in automatic story generation**\n",
        "\n",
        "Agata Kulczynska, Student ID: 180489015"
      ],
      "metadata": {
        "id": "nDQOnhsCdNll"
      }
    },
    {
      "cell_type": "markdown",
      "source": [
        "The presented project is aimed at employing the GPT-2 model in order to generate textual descriptions and backstories of potential fictional characters.\n",
        "Two GPT2 models are fine-tuned on custom datasets scraped from the Internet, and utilised to produce text.\n",
        "\n",
        "Implementation of the system is based on the Colab Notebook linked below:\n",
        "https://colab.research.google.com/drive/1vnpMoZoenRrWeaxMyfYK4DDbtlBu-M8V\n",
        "\n",
        "Drive folder including both models and datasets:<br>\n",
        "https://drive.google.com/drive/folders/1fr2C-3qzVQik6YtuJ3xsHGhTPtqI2kCY"
      ],
      "metadata": {
        "id": "Q3QPYiwDdPWI"
      }
    },
    {
      "cell_type": "markdown",
      "source": [
        "# Logistics Code:\n",
        "\n",
        "Logistics Code comprises of imports of libraries and packages, preprocessing of the dataset, defining parameters, structuring data into the input format of the GPT-2 model, as well as getting the GPT-2 model and tokenizer."
      ],
      "metadata": {
        "id": "ych1OkeVlSuZ"
      }
    },
    {
      "cell_type": "markdown",
      "source": [
        "### Imports"
      ],
      "metadata": {
        "id": "4a81iqoMqADC"
      }
    },
    {
      "cell_type": "code",
      "source": [
        "!pip install transformers"
      ],
      "metadata": {
        "id": "tnbK0T9vqETN",
        "colab": {
          "base_uri": "https://localhost:8080/"
        },
        "outputId": "9bfa40b7-64bd-4b6a-ca62-116e3754c519"
      },
      "execution_count": null,
      "outputs": [
        {
          "output_type": "stream",
          "name": "stdout",
          "text": [
            "Collecting transformers\n",
            "  Downloading transformers-4.18.0-py3-none-any.whl (4.0 MB)\n",
            "\u001b[K     |████████████████████████████████| 4.0 MB 14.1 MB/s \n",
            "\u001b[?25hRequirement already satisfied: regex!=2019.12.17 in /usr/local/lib/python3.7/dist-packages (from transformers) (2019.12.20)\n",
            "Collecting huggingface-hub<1.0,>=0.1.0\n",
            "  Downloading huggingface_hub-0.5.1-py3-none-any.whl (77 kB)\n",
            "\u001b[K     |████████████████████████████████| 77 kB 8.4 MB/s \n",
            "\u001b[?25hCollecting sacremoses\n",
            "  Downloading sacremoses-0.0.49-py3-none-any.whl (895 kB)\n",
            "\u001b[K     |████████████████████████████████| 895 kB 59.6 MB/s \n",
            "\u001b[?25hRequirement already satisfied: tqdm>=4.27 in /usr/local/lib/python3.7/dist-packages (from transformers) (4.64.0)\n",
            "Requirement already satisfied: requests in /usr/local/lib/python3.7/dist-packages (from transformers) (2.23.0)\n",
            "Collecting pyyaml>=5.1\n",
            "  Downloading PyYAML-6.0-cp37-cp37m-manylinux_2_5_x86_64.manylinux1_x86_64.manylinux_2_12_x86_64.manylinux2010_x86_64.whl (596 kB)\n",
            "\u001b[K     |████████████████████████████████| 596 kB 54.8 MB/s \n",
            "\u001b[?25hRequirement already satisfied: numpy>=1.17 in /usr/local/lib/python3.7/dist-packages (from transformers) (1.21.5)\n",
            "Collecting tokenizers!=0.11.3,<0.13,>=0.11.1\n",
            "  Downloading tokenizers-0.12.1-cp37-cp37m-manylinux_2_12_x86_64.manylinux2010_x86_64.whl (6.6 MB)\n",
            "\u001b[K     |████████████████████████████████| 6.6 MB 52.5 MB/s \n",
            "\u001b[?25hRequirement already satisfied: importlib-metadata in /usr/local/lib/python3.7/dist-packages (from transformers) (4.11.3)\n",
            "Requirement already satisfied: packaging>=20.0 in /usr/local/lib/python3.7/dist-packages (from transformers) (21.3)\n",
            "Requirement already satisfied: filelock in /usr/local/lib/python3.7/dist-packages (from transformers) (3.6.0)\n",
            "Requirement already satisfied: typing-extensions>=3.7.4.3 in /usr/local/lib/python3.7/dist-packages (from huggingface-hub<1.0,>=0.1.0->transformers) (4.1.1)\n",
            "Requirement already satisfied: pyparsing!=3.0.5,>=2.0.2 in /usr/local/lib/python3.7/dist-packages (from packaging>=20.0->transformers) (3.0.8)\n",
            "Requirement already satisfied: zipp>=0.5 in /usr/local/lib/python3.7/dist-packages (from importlib-metadata->transformers) (3.8.0)\n",
            "Requirement already satisfied: idna<3,>=2.5 in /usr/local/lib/python3.7/dist-packages (from requests->transformers) (2.10)\n",
            "Requirement already satisfied: certifi>=2017.4.17 in /usr/local/lib/python3.7/dist-packages (from requests->transformers) (2021.10.8)\n",
            "Requirement already satisfied: urllib3!=1.25.0,!=1.25.1,<1.26,>=1.21.1 in /usr/local/lib/python3.7/dist-packages (from requests->transformers) (1.24.3)\n",
            "Requirement already satisfied: chardet<4,>=3.0.2 in /usr/local/lib/python3.7/dist-packages (from requests->transformers) (3.0.4)\n",
            "Requirement already satisfied: click in /usr/local/lib/python3.7/dist-packages (from sacremoses->transformers) (7.1.2)\n",
            "Requirement already satisfied: six in /usr/local/lib/python3.7/dist-packages (from sacremoses->transformers) (1.15.0)\n",
            "Requirement already satisfied: joblib in /usr/local/lib/python3.7/dist-packages (from sacremoses->transformers) (1.1.0)\n",
            "Installing collected packages: pyyaml, tokenizers, sacremoses, huggingface-hub, transformers\n",
            "  Attempting uninstall: pyyaml\n",
            "    Found existing installation: PyYAML 3.13\n",
            "    Uninstalling PyYAML-3.13:\n",
            "      Successfully uninstalled PyYAML-3.13\n",
            "Successfully installed huggingface-hub-0.5.1 pyyaml-6.0 sacremoses-0.0.49 tokenizers-0.12.1 transformers-4.18.0\n"
          ]
        }
      ]
    },
    {
      "cell_type": "code",
      "source": [
        "import pandas as pd\n",
        "import sklearn\n",
        "from sklearn.model_selection import train_test_split\n",
        "from transformers import GPT2LMHeadModel, GPT2Tokenizer, GPT2Config\n",
        "import numpy as np\n",
        "import random\n",
        "import torch\n",
        "from torch.utils.data import Dataset, DataLoader\n",
        "from transformers import GPT2Tokenizer, GPT2LMHeadModel, AdamW, get_linear_schedule_with_warmup, \\\n",
        "                         AutoTokenizer, AutoConfig, AutoModelForPreTraining, \\\n",
        "                        TrainingArguments, BeamScorer, Trainer\n",
        "from tqdm import tqdm, trange\n",
        "import torch.nn.functional as F\n",
        "import csv\n",
        "import os\n",
        "import re\n",
        "import string\n",
        "import nltk\n",
        "from nltk.tokenize import word_tokenize\n",
        "import ipywidgets as widgets"
      ],
      "metadata": {
        "id": "QxgvPE_5qH0-"
      },
      "execution_count": null,
      "outputs": []
    },
    {
      "cell_type": "code",
      "source": [
        "import nltk\n",
        "from nltk.tokenize import word_tokenize\n",
        "nltk.download('punkt')\n",
        "nltk.download('stopwords')"
      ],
      "metadata": {
        "id": "3eBZaw9QqSa8",
        "colab": {
          "base_uri": "https://localhost:8080/"
        },
        "outputId": "bd66b2ae-76a8-4d99-9866-d0a3da8aebf1"
      },
      "execution_count": null,
      "outputs": [
        {
          "output_type": "stream",
          "name": "stdout",
          "text": [
            "[nltk_data] Downloading package punkt to /root/nltk_data...\n",
            "[nltk_data]   Unzipping tokenizers/punkt.zip.\n",
            "[nltk_data] Downloading package stopwords to /root/nltk_data...\n",
            "[nltk_data]   Unzipping corpora/stopwords.zip.\n"
          ]
        },
        {
          "output_type": "execute_result",
          "data": {
            "text/plain": [
              "True"
            ]
          },
          "metadata": {},
          "execution_count": 3
        }
      ]
    },
    {
      "cell_type": "code",
      "source": [
        "# CSS to wrap lines when displaying the output\n",
        "from IPython.display import HTML, display\n",
        "\n",
        "def set_css():\n",
        "  display(HTML('''\n",
        "  <style>\n",
        "    pre {\n",
        "        white-space: pre-wrap;\n",
        "    }\n",
        "  </style>\n",
        "  '''))\n",
        "get_ipython().events.register('pre_run_cell', set_css)"
      ],
      "metadata": {
        "id": "LQ6pBy_rqU5h"
      },
      "execution_count": null,
      "outputs": []
    },
    {
      "cell_type": "code",
      "source": [
        "# Mount drive\n",
        "\"\"\"from google.colab import drive\n",
        "drive.mount('/content/drive')\"\"\""
      ],
      "metadata": {
        "id": "LBvfN4i5r_E-",
        "colab": {
          "base_uri": "https://localhost:8080/",
          "height": 36
        },
        "outputId": "c45671e3-1a6c-4b09-b327-586f5a08b0cd"
      },
      "execution_count": null,
      "outputs": [
        {
          "output_type": "display_data",
          "data": {
            "text/plain": [
              "<IPython.core.display.HTML object>"
            ],
            "text/html": [
              "\n",
              "  <style>\n",
              "    pre {\n",
              "        white-space: pre-wrap;\n",
              "    }\n",
              "  </style>\n",
              "  "
            ]
          },
          "metadata": {}
        },
        {
          "output_type": "execute_result",
          "data": {
            "text/plain": [
              "\"from google.colab import drive\\ndrive.mount('/content/drive')\""
            ],
            "application/vnd.google.colaboratory.intrinsic+json": {
              "type": "string"
            }
          },
          "metadata": {},
          "execution_count": 5
        }
      ]
    },
    {
      "cell_type": "code",
      "source": [
        "#Empty cache \n",
        "import gc\n",
        "gc.collect()\n",
        "torch.cuda.empty_cache()"
      ],
      "metadata": {
        "colab": {
          "base_uri": "https://localhost:8080/",
          "height": 17
        },
        "id": "gqrYckcSCs7b",
        "outputId": "953b3020-cd75-4dd6-db5a-9f71ac338045"
      },
      "execution_count": null,
      "outputs": [
        {
          "output_type": "display_data",
          "data": {
            "text/plain": [
              "<IPython.core.display.HTML object>"
            ],
            "text/html": [
              "\n",
              "  <style>\n",
              "    pre {\n",
              "        white-space: pre-wrap;\n",
              "    }\n",
              "  </style>\n",
              "  "
            ]
          },
          "metadata": {}
        }
      ]
    },
    {
      "cell_type": "markdown",
      "source": [
        "### Dataset Preprocessing"
      ],
      "metadata": {
        "id": "ukmaNJyOsO7I"
      }
    },
    {
      "cell_type": "markdown",
      "source": [
        "For the task of text generation, two separate GPT-2 models were trained. The former (referred to as Model 1) is utilised to produce textual descriptions of the fictional characters, while the later (referred to as Model 2) is employed to generate backstories. \n",
        "<br>\n",
        "The training process of both models is based on the dataset scraped from the Internet. Furthermore, the training data for the model employed to produce backstories is additionally complemented with data extracted from the publicly available DnD-characters dataset. Consequently, two separate textual corpora were prepared and pre-processed for the purpose of the training phase.\n",
        "<br>\n",
        "The code written to scrape the data from the Internet is commented out and included at the end of this section."
      ],
      "metadata": {
        "id": "P1BPh5qstnXD"
      }
    },
    {
      "cell_type": "code",
      "source": [
        "# Method to preprocess the dataset\n",
        "\"\"\"def preprocess_datasets(dataset, dataset_columns):\n",
        "    idx = 0\n",
        "    preprocessed_corpus = []\n",
        "    for row in dataset.values:\n",
        "        preprocessed = []\n",
        "        # Tokenize to check the length of the text input\n",
        "        tokens = word_tokenize(row[3])\n",
        "        # Max length of the description is 450\n",
        "        if not(len(tokens) > 450):\n",
        "            # Remove selected special characters\n",
        "            line = re.sub('‹_ÕÊœâ€[€@#$]', '', row[3])\n",
        "            preprocessed.append(row[0])\n",
        "            preprocessed.append(row[1])\n",
        "            preprocessed.append(row[2])\n",
        "            preprocessed.append(line)\n",
        "            preprocessed_corpus.append(preprocessed)\n",
        "    preprocessed_corpus = pd.DataFrame(preprocessed_corpus, columns = dataset_columns)\n",
        "    return preprocessed_corpus   \"\"\"   "
      ],
      "metadata": {
        "id": "NQVReKqksSw7",
        "colab": {
          "base_uri": "https://localhost:8080/",
          "height": 91
        },
        "outputId": "e785736d-2ba5-4e76-987d-25a1bf405ff6"
      },
      "execution_count": null,
      "outputs": [
        {
          "output_type": "display_data",
          "data": {
            "text/plain": [
              "<IPython.core.display.HTML object>"
            ],
            "text/html": [
              "\n",
              "  <style>\n",
              "    pre {\n",
              "        white-space: pre-wrap;\n",
              "    }\n",
              "  </style>\n",
              "  "
            ]
          },
          "metadata": {}
        },
        {
          "output_type": "execute_result",
          "data": {
            "text/plain": [
              "\"def preprocess_datasets(dataset, dataset_columns):\\n    idx = 0\\n    preprocessed_corpus = []\\n    for row in dataset.values:\\n        preprocessed = []\\n        # Tokenize to check the length of the text input\\n        tokens = word_tokenize(row[3])\\n        # Max length of the description is 450\\n        if not(len(tokens) > 450):\\n            # Remove selected special characters\\n            line = re.sub('‹_ÕÊœâ€[€@#$]', '', row[3])\\n            preprocessed.append(row[0])\\n            preprocessed.append(row[1])\\n            preprocessed.append(row[2])\\n            preprocessed.append(line)\\n            preprocessed_corpus.append(preprocessed)\\n    preprocessed_corpus = pd.DataFrame(preprocessed_corpus, columns = dataset_columns)\\n    return preprocessed_corpus   \""
            ],
            "application/vnd.google.colaboratory.intrinsic+json": {
              "type": "string"
            }
          },
          "metadata": {},
          "execution_count": 7
        }
      ]
    },
    {
      "cell_type": "code",
      "source": [
        "# Load the datasets\n",
        "\"\"\"data1 = pd.read_csv('dd_bios.csv', encoding='ISO-8859-1')\n",
        "data2 = pd.read_csv('data1.csv', encoding='ISO-8859-1')\n",
        "data3 = pd.read_csv('data2.csv', encoding='ISO-8859-1')\"\"\""
      ],
      "metadata": {
        "id": "RD8Dsv77x-K8",
        "colab": {
          "base_uri": "https://localhost:8080/",
          "height": 36
        },
        "outputId": "a75645a2-9259-4101-f8ca-8474240db1ee"
      },
      "execution_count": null,
      "outputs": [
        {
          "output_type": "display_data",
          "data": {
            "text/plain": [
              "<IPython.core.display.HTML object>"
            ],
            "text/html": [
              "\n",
              "  <style>\n",
              "    pre {\n",
              "        white-space: pre-wrap;\n",
              "    }\n",
              "  </style>\n",
              "  "
            ]
          },
          "metadata": {}
        },
        {
          "output_type": "execute_result",
          "data": {
            "text/plain": [
              "\"data1 = pd.read_csv('dd_bios.csv', encoding='ISO-8859-1')\\ndata2 = pd.read_csv('data1.csv', encoding='ISO-8859-1')\\ndata3 = pd.read_csv('data2.csv', encoding='ISO-8859-1')\""
            ],
            "application/vnd.google.colaboratory.intrinsic+json": {
              "type": "string"
            }
          },
          "metadata": {},
          "execution_count": 8
        }
      ]
    },
    {
      "cell_type": "code",
      "source": [
        "# Corpus 1 - for characters' descriptions generation\n",
        "\"\"\"corpus1 = data2.append(data3)\n",
        "# Choose relevant columns\n",
        "corpus1 = corpus1[['name', 'race', 'charClass', 'description']]\n",
        "\n",
        "# Drop rows with empty values\n",
        "corpus1['name'].replace('', np.nan, inplace=True)\n",
        "corpus1.dropna(subset=['name'], inplace=True)\n",
        "corpus1['race'].replace('', np.nan, inplace=True)\n",
        "corpus1.dropna(subset=['race'], inplace=True)\n",
        "corpus1['charClass'].replace('', np.nan, inplace=True)\n",
        "corpus1.dropna(subset=['charClass'], inplace=True)\n",
        "corpus1['description'].replace('', np.nan, inplace=True)\n",
        "corpus1.dropna(subset=['description'], inplace=True)\n",
        "\n",
        "# Apply preprocessing\n",
        "corpus1 = preprocess_datasets(corpus1, ['name', 'race', 'charClass', 'description'])\n",
        "\n",
        "# Check the final length\n",
        "print(\"Corpus 1 length: \" + str(len(corpus1)))\n",
        "\n",
        "# Corpus 2 - for characters' backstories generation\n",
        "corpus2a = data2.append(data3)\n",
        "\n",
        "# Choose relevant columns\n",
        "corpus2a = corpus2a[['name', 'race', 'charClass', 'background']]\n",
        "# Append data\n",
        "corpus2 = corpus2a.append(data1)\n",
        "\n",
        "# Drop rows with empty values\n",
        "corpus2['name'].replace('', np.nan, inplace=True)\n",
        "corpus2.dropna(subset=['name'], inplace=True)\n",
        "corpus2['race'].replace('', np.nan, inplace=True)\n",
        "corpus2.dropna(subset=['race'], inplace=True)\n",
        "corpus2['charClass'].replace('', np.nan, inplace=True)\n",
        "corpus2.dropna(subset=['charClass'], inplace=True)\n",
        "corpus2['background'].replace('', np.nan, inplace=True)\n",
        "corpus2.dropna(subset=['background'], inplace=True)\n",
        "\n",
        "# Apply preprocessing\n",
        "corpus2 = preprocess_datasets(corpus2, ['name', 'race', 'charClass', 'background'])\n",
        "\n",
        "# Check the final length\n",
        "print(\"Corpus 2 length: \" + str(len(corpus2)))\"\"\""
      ],
      "metadata": {
        "id": "65G0jmDpyGb6",
        "colab": {
          "base_uri": "https://localhost:8080/",
          "height": 108
        },
        "outputId": "609d0c0b-ae6e-43f9-d8b4-86b6c00d7cf7"
      },
      "execution_count": null,
      "outputs": [
        {
          "output_type": "display_data",
          "data": {
            "text/plain": [
              "<IPython.core.display.HTML object>"
            ],
            "text/html": [
              "\n",
              "  <style>\n",
              "    pre {\n",
              "        white-space: pre-wrap;\n",
              "    }\n",
              "  </style>\n",
              "  "
            ]
          },
          "metadata": {}
        },
        {
          "output_type": "execute_result",
          "data": {
            "text/plain": [
              "'corpus1 = data2.append(data3)\\n# Choose relevant columns\\ncorpus1 = corpus1[[\\'name\\', \\'race\\', \\'charClass\\', \\'description\\']]\\n\\n# Drop rows with empty values\\ncorpus1[\\'name\\'].replace(\\'\\', np.nan, inplace=True)\\ncorpus1.dropna(subset=[\\'name\\'], inplace=True)\\ncorpus1[\\'race\\'].replace(\\'\\', np.nan, inplace=True)\\ncorpus1.dropna(subset=[\\'race\\'], inplace=True)\\ncorpus1[\\'charClass\\'].replace(\\'\\', np.nan, inplace=True)\\ncorpus1.dropna(subset=[\\'charClass\\'], inplace=True)\\ncorpus1[\\'description\\'].replace(\\'\\', np.nan, inplace=True)\\ncorpus1.dropna(subset=[\\'description\\'], inplace=True)\\n\\n# Apply preprocessing\\ncorpus1 = preprocess_datasets(corpus1, [\\'name\\', \\'race\\', \\'charClass\\', \\'description\\'])\\n\\n# Check the final length\\nprint(\"Corpus 1 length: \" + str(len(corpus1)))\\n\\n# Corpus 2 - for characters\\' backstories generation\\ncorpus2a = data2.append(data3)\\n\\n# Choose relevant columns\\ncorpus2a = corpus2a[[\\'name\\', \\'race\\', \\'charClass\\', \\'background\\']]\\n# Append data\\ncorpus2 = corpus2a.append(data1)\\n\\n# Drop rows with empty values\\ncorpus2[\\'name\\'].replace(\\'\\', np.nan, inplace=True)\\ncorpus2.dropna(subset=[\\'name\\'], inplace=True)\\ncorpus2[\\'race\\'].replace(\\'\\', np.nan, inplace=True)\\ncorpus2.dropna(subset=[\\'race\\'], inplace=True)\\ncorpus2[\\'charClass\\'].replace(\\'\\', np.nan, inplace=True)\\ncorpus2.dropna(subset=[\\'charClass\\'], inplace=True)\\ncorpus2[\\'background\\'].replace(\\'\\', np.nan, inplace=True)\\ncorpus2.dropna(subset=[\\'background\\'], inplace=True)\\n\\n# Apply preprocessing\\ncorpus2 = preprocess_datasets(corpus2, [\\'name\\', \\'race\\', \\'charClass\\', \\'background\\'])\\n\\n# Check the final length\\nprint(\"Corpus 2 length: \" + str(len(corpus2)))'"
            ],
            "application/vnd.google.colaboratory.intrinsic+json": {
              "type": "string"
            }
          },
          "metadata": {},
          "execution_count": 9
        }
      ]
    },
    {
      "cell_type": "code",
      "source": [
        "# Review final corpus\n",
        "\"corpus1\""
      ],
      "metadata": {
        "id": "8Muix2tu2cYG",
        "colab": {
          "base_uri": "https://localhost:8080/",
          "height": 36
        },
        "outputId": "fc915b89-deac-4d77-8284-59f293519b72"
      },
      "execution_count": null,
      "outputs": [
        {
          "output_type": "display_data",
          "data": {
            "text/plain": [
              "<IPython.core.display.HTML object>"
            ],
            "text/html": [
              "\n",
              "  <style>\n",
              "    pre {\n",
              "        white-space: pre-wrap;\n",
              "    }\n",
              "  </style>\n",
              "  "
            ]
          },
          "metadata": {}
        },
        {
          "output_type": "execute_result",
          "data": {
            "text/plain": [
              "'corpus1'"
            ],
            "application/vnd.google.colaboratory.intrinsic+json": {
              "type": "string"
            }
          },
          "metadata": {},
          "execution_count": 10
        }
      ]
    },
    {
      "cell_type": "code",
      "source": [
        "\"corpus2\""
      ],
      "metadata": {
        "id": "IPzucOff2eoc",
        "colab": {
          "base_uri": "https://localhost:8080/",
          "height": 36
        },
        "outputId": "905e8db5-465b-47bc-a441-7450afa43b8a"
      },
      "execution_count": null,
      "outputs": [
        {
          "output_type": "display_data",
          "data": {
            "text/plain": [
              "<IPython.core.display.HTML object>"
            ],
            "text/html": [
              "\n",
              "  <style>\n",
              "    pre {\n",
              "        white-space: pre-wrap;\n",
              "    }\n",
              "  </style>\n",
              "  "
            ]
          },
          "metadata": {}
        },
        {
          "output_type": "execute_result",
          "data": {
            "text/plain": [
              "'corpus2'"
            ],
            "application/vnd.google.colaboratory.intrinsic+json": {
              "type": "string"
            }
          },
          "metadata": {},
          "execution_count": 11
        }
      ]
    },
    {
      "cell_type": "code",
      "source": [
        "# Turn into lists\n",
        "\"\"\"name1 = corpus1['name'].values.tolist()\n",
        "charClass1 = corpus1['charClass'].values.tolist()\n",
        "race1 = corpus1['race'].values.tolist()\n",
        "description = corpus1['description'].values.tolist()\n",
        "\n",
        "name2 = corpus2['name'].values.tolist()\n",
        "charClass2 = corpus2['charClass'].values.tolist()\n",
        "race2 = corpus2['race'].values.tolist()\n",
        "background = corpus2['background'].values.tolist()\"\"\""
      ],
      "metadata": {
        "id": "p4OKSZhp2sJi",
        "colab": {
          "base_uri": "https://localhost:8080/",
          "height": 54
        },
        "outputId": "8e188904-f9d1-48a5-9c80-5367e27c8248"
      },
      "execution_count": null,
      "outputs": [
        {
          "output_type": "display_data",
          "data": {
            "text/plain": [
              "<IPython.core.display.HTML object>"
            ],
            "text/html": [
              "\n",
              "  <style>\n",
              "    pre {\n",
              "        white-space: pre-wrap;\n",
              "    }\n",
              "  </style>\n",
              "  "
            ]
          },
          "metadata": {}
        },
        {
          "output_type": "execute_result",
          "data": {
            "text/plain": [
              "\"name1 = corpus1['name'].values.tolist()\\ncharClass1 = corpus1['charClass'].values.tolist()\\nrace1 = corpus1['race'].values.tolist()\\ndescription = corpus1['description'].values.tolist()\\n\\nname2 = corpus2['name'].values.tolist()\\ncharClass2 = corpus2['charClass'].values.tolist()\\nrace2 = corpus2['race'].values.tolist()\\nbackground = corpus2['background'].values.tolist()\""
            ],
            "application/vnd.google.colaboratory.intrinsic+json": {
              "type": "string"
            }
          },
          "metadata": {},
          "execution_count": 12
        }
      ]
    },
    {
      "cell_type": "code",
      "source": [
        "### Code implemented to scrape the data\n",
        "\n",
        "\"\"\"\n",
        "import requests\n",
        "import mechanize\n",
        "import http.cookiejar as cookielib\n",
        "from bs4 import BeautifulSoup\n",
        "import pandas as pd\n",
        "\n",
        "# Url of the website from which the data was scraped\n",
        "url = \"https://3edb.com/selection.asp\"\n",
        "\n",
        "headers = {\n",
        "    'User-Agent': 'Mozilla/5.0 (Macintosh; Intel Mac OS X 10.12; rv:55.0) Gecko/20100101 Firefox/55.0',\n",
        "}\n",
        "\n",
        "r = requests.get(\"https://3edb.com/selection.asp\", headers=headers)\n",
        "c = r.content\n",
        "\n",
        "soup = BeautifulSoup(r.content, 'html.parser')\n",
        "\n",
        "post_params = {'cn': '', 'on': ''}\n",
        "response = requests.post(url, data=post_params, headers=headers)\n",
        "soup = BeautifulSoup(response.text, 'html.parser')\n",
        "\n",
        "final_df = pd.DataFrame()\n",
        "rowsCounter = 0\n",
        "# Range determined based on the IDs of forum posts on the website\n",
        "for i in range(10000, 23691):\n",
        "    try:\n",
        "        r = requests.get(\"https://3edb.com//viewCharacter.asp?cid=\"+str(i), headers=headers)\n",
        "        soup = BeautifulSoup(r.content, 'html.parser')\n",
        "        tables = soup.find_all(\"table\")\n",
        "        name = tables[1].find_all(\"tr\")[0].find_all(\"td\")[0].get_text()\n",
        "        if not(name == \"An Error Occurred On The Server When Processing The Url. Please Contact The System Administrator.  If You Are The System Administrator Please Click Here To Find Out More About This Error.\"):\n",
        "            description = tables[20].find_all(\"tr\")[1].find_all(\"td\")[0].get_text()\n",
        "            personality = tables[21].find_all(\"tr\")[1].find_all(\"td\")[0].get_text()\n",
        "            background = tables[22].find_all(\"tr\")[1].find_all(\"td\")[0].get_text()\n",
        "\n",
        "            # Only add to dataset if the descriptions are included\n",
        "            if not(description == \"No Description Assigned.\") and not(background == \"No Background Assigned.\") and not(personality == \"No Personality Assigned.\"):\n",
        "                charClass = tables[2].find_all(\"tr\")[2].find_all(\"td\")[0].get_text()\n",
        "                charRace = tables[2].find_all(\"tr\")[2].find_all(\"td\")[1].get_text()\n",
        "                age = tables[2].find_all(\"tr\")[4].find_all(\"td\")[2].get_text()\n",
        "                gender = tables[2].find_all(\"tr\")[4].find_all(\"td\")[3].get_text()\n",
        "                height = tables[2].find_all(\"tr\")[6].find_all(\"td\")[0].get_text()\n",
        "                weight = tables[2].find_all(\"tr\")[6].find_all(\"td\")[1].get_text()\n",
        "                eyes = tables[2].find_all(\"tr\")[6].find_all(\"td\")[2].get_text()\n",
        "                hair = tables[2].find_all(\"tr\")[6].find_all(\"td\")[3].get_text()\n",
        "                # Append to the dataframe\n",
        "                df = pd.DataFrame(data={'name': [name],\n",
        "                                        'charClass': [charClass],\n",
        "                                        'race': [charRace],\n",
        "                                        'age': [age],\n",
        "                                        'gender': [gender],\n",
        "                                        'height': [height],\n",
        "                                        'weight': [weight],\n",
        "                                        'eyes': [eyes],\n",
        "                                        'hair': [hair],\n",
        "                                        'description': [description],\n",
        "                                        'personality': [personality],\n",
        "                                        'background': [background]\n",
        "                                        }\n",
        "                                  )\n",
        "\n",
        "                final_df = final_df.append(df)\n",
        "                print(str(i) + \" \" + str(rowsCounter))\n",
        "                rowsCounter += 1\n",
        "    except:\n",
        "        print(\"Continue\")\n",
        "\n",
        "final_df.to_csv(\"data2.csv\",index=False)\n",
        "\"\"\""
      ],
      "metadata": {
        "id": "1aHeI2LfN4hU",
        "colab": {
          "base_uri": "https://localhost:8080/",
          "height": 108
        },
        "outputId": "602dd862-510e-4fc9-fd9b-5e465a8c44b9"
      },
      "execution_count": null,
      "outputs": [
        {
          "output_type": "display_data",
          "data": {
            "text/plain": [
              "<IPython.core.display.HTML object>"
            ],
            "text/html": [
              "\n",
              "  <style>\n",
              "    pre {\n",
              "        white-space: pre-wrap;\n",
              "    }\n",
              "  </style>\n",
              "  "
            ]
          },
          "metadata": {}
        },
        {
          "output_type": "execute_result",
          "data": {
            "text/plain": [
              "'\\nimport requests\\nimport mechanize\\nimport http.cookiejar as cookielib\\nfrom bs4 import BeautifulSoup\\nimport pandas as pd\\n\\n# Url of the website from which the data was scraped\\nurl = \"https://3edb.com/selection.asp\"\\n\\nheaders = {\\n    \\'User-Agent\\': \\'Mozilla/5.0 (Macintosh; Intel Mac OS X 10.12; rv:55.0) Gecko/20100101 Firefox/55.0\\',\\n}\\n\\nr = requests.get(\"https://3edb.com/selection.asp\", headers=headers)\\nc = r.content\\n\\nsoup = BeautifulSoup(r.content, \\'html.parser\\')\\n\\npost_params = {\\'cn\\': \\'\\', \\'on\\': \\'\\'}\\nresponse = requests.post(url, data=post_params, headers=headers)\\nsoup = BeautifulSoup(response.text, \\'html.parser\\')\\n\\nfinal_df = pd.DataFrame()\\nrowsCounter = 0\\n# Range determined based on the IDs of forum posts on the website\\nfor i in range(10000, 23691):\\n    try:\\n        r = requests.get(\"https://3edb.com//viewCharacter.asp?cid=\"+str(i), headers=headers)\\n        soup = BeautifulSoup(r.content, \\'html.parser\\')\\n        tables = soup.find_all(\"table\")\\n        name = tables[1].find_all(\"tr\")[0].find_all(\"td\")[0].get_text()\\n        if not(name == \"An Error Occurred On The Server When Processing The Url. Please Contact The System Administrator.  If You Are The System Administrator Please Click Here To Find Out More About This Error.\"):\\n            description = tables[20].find_all(\"tr\")[1].find_all(\"td\")[0].get_text()\\n            personality = tables[21].find_all(\"tr\")[1].find_all(\"td\")[0].get_text()\\n            background = tables[22].find_all(\"tr\")[1].find_all(\"td\")[0].get_text()\\n\\n            # Only add to dataset if the descriptions are included\\n            if not(description == \"No Description Assigned.\") and not(background == \"No Background Assigned.\") and not(personality == \"No Personality Assigned.\"):\\n                charClass = tables[2].find_all(\"tr\")[2].find_all(\"td\")[0].get_text()\\n                charRace = tables[2].find_all(\"tr\")[2].find_all(\"td\")[1].get_text()\\n                age = tables[2].find_all(\"tr\")[4].find_all(\"td\")[2].get_text()\\n                gender = tables[2].find_all(\"tr\")[4].find_all(\"td\")[3].get_text()\\n                height = tables[2].find_all(\"tr\")[6].find_all(\"td\")[0].get_text()\\n                weight = tables[2].find_all(\"tr\")[6].find_all(\"td\")[1].get_text()\\n                eyes = tables[2].find_all(\"tr\")[6].find_all(\"td\")[2].get_text()\\n                hair = tables[2].find_all(\"tr\")[6].find_all(\"td\")[3].get_text()\\n                # Append to the dataframe\\n                df = pd.DataFrame(data={\\'name\\': [name],\\n                                        \\'charClass\\': [charClass],\\n                                        \\'race\\': [charRace],\\n                                        \\'age\\': [age],\\n                                        \\'gender\\': [gender],\\n                                        \\'height\\': [height],\\n                                        \\'weight\\': [weight],\\n                                        \\'eyes\\': [eyes],\\n                                        \\'hair\\': [hair],\\n                                        \\'description\\': [description],\\n                                        \\'personality\\': [personality],\\n                                        \\'background\\': [background]\\n                                        }\\n                                  )\\n\\n                final_df = final_df.append(df)\\n                print(str(i) + \" \" + str(rowsCounter))\\n                rowsCounter += 1\\n    except:\\n        print(\"Continue\")\\n\\nfinal_df.to_csv(\"data2.csv\",index=False)\\n'"
            ],
            "application/vnd.google.colaboratory.intrinsic+json": {
              "type": "string"
            }
          },
          "metadata": {},
          "execution_count": 13
        }
      ]
    },
    {
      "cell_type": "markdown",
      "source": [
        "### Parameters"
      ],
      "metadata": {
        "id": "k9_Y8DAm3Un-"
      }
    },
    {
      "cell_type": "markdown",
      "source": [
        "Setting up the parameters for the training phase."
      ],
      "metadata": {
        "id": "zrzqGfiu3Wj7"
      }
    },
    {
      "cell_type": "code",
      "source": [
        "\"\"\"DEBUG = False\n",
        "INPUT_DIR = '/'\n",
        "USE_APEX = True\n",
        "APEX_OPT_LEVEL = 'O1'\n",
        "MODEL = 'gpt2' \n",
        "UNFREEZE_LAST_N = 6 \n",
        "# Special tokens for the model\n",
        "SPECIAL_TOKENS  = { \"bos_token\": \"<|BOS|>\",\n",
        "                    \"eos_token\": \"<|EOS|>\",\n",
        "                    \"unk_token\": \"<|UNK|>\",                    \n",
        "                    \"pad_token\": \"<|PAD|>\",\n",
        "                    \"sep_token\": \"<|SEP|>\"}\n",
        "                    \n",
        "MAXLEN = 1024  #{768, 1024, 1280, 1600}\n",
        "# Size of the training set\n",
        "TRAIN_SIZE      = 0.8\n",
        "if USE_APEX:\n",
        "    TRAIN_BATCHSIZE = 4\n",
        "    BATCH_UPDATE    = 16\n",
        "else:\n",
        "    TRAIN_BATCHSIZE = 2\n",
        "    BATCH_UPDATE    = 32\n",
        "EPOCHS = 4\n",
        "LR = 5e-4\n",
        "EPS = 1e-8\n",
        "WARMUP_STEPS = 1e2\n",
        "SEED = 2020\"\"\""
      ],
      "metadata": {
        "id": "Jnh3FJbF3ZQk",
        "colab": {
          "base_uri": "https://localhost:8080/",
          "height": 91
        },
        "outputId": "91cab7b6-7354-457f-b7b7-38e79f8b3878"
      },
      "execution_count": null,
      "outputs": [
        {
          "output_type": "display_data",
          "data": {
            "text/plain": [
              "<IPython.core.display.HTML object>"
            ],
            "text/html": [
              "\n",
              "  <style>\n",
              "    pre {\n",
              "        white-space: pre-wrap;\n",
              "    }\n",
              "  </style>\n",
              "  "
            ]
          },
          "metadata": {}
        },
        {
          "output_type": "execute_result",
          "data": {
            "text/plain": [
              "'DEBUG = False\\nINPUT_DIR = \\'/\\'\\nUSE_APEX = True\\nAPEX_OPT_LEVEL = \\'O1\\'\\nMODEL = \\'gpt2\\' \\nUNFREEZE_LAST_N = 6 \\n# Special tokens for the model\\nSPECIAL_TOKENS  = { \"bos_token\": \"<|BOS|>\",\\n                    \"eos_token\": \"<|EOS|>\",\\n                    \"unk_token\": \"<|UNK|>\",                    \\n                    \"pad_token\": \"<|PAD|>\",\\n                    \"sep_token\": \"<|SEP|>\"}\\n                    \\nMAXLEN = 1024  #{768, 1024, 1280, 1600}\\n# Size of the training set\\nTRAIN_SIZE      = 0.8\\nif USE_APEX:\\n    TRAIN_BATCHSIZE = 4\\n    BATCH_UPDATE    = 16\\nelse:\\n    TRAIN_BATCHSIZE = 2\\n    BATCH_UPDATE    = 32\\nEPOCHS = 4\\nLR = 5e-4\\nEPS = 1e-8\\nWARMUP_STEPS = 1e2\\nSEED = 2020'"
            ],
            "application/vnd.google.colaboratory.intrinsic+json": {
              "type": "string"
            }
          },
          "metadata": {},
          "execution_count": 14
        }
      ]
    },
    {
      "cell_type": "markdown",
      "source": [
        "### Structuring textual data into GPT-2 input format"
      ],
      "metadata": {
        "id": "9lk1xPqc4OWZ"
      }
    },
    {
      "cell_type": "markdown",
      "source": [
        "Processing textual data in order to structure it into the format accepted by the GPT-2 model. To input the context key-words, special tokens (BOS - Beginning of Sentence, SEP - Separation, and EOS - End of Sentence) are utilised. "
      ],
      "metadata": {
        "id": "3u6VQpaA4TaB"
      }
    },
    {
      "cell_type": "code",
      "source": [
        "# Processing data into format accepted by GPT2, utilising GPT2 tokenizer\n",
        "\n",
        "\"\"\"def preprocess_data(name, race, charClass, descbag, tokenizer):\n",
        "    labels = []\n",
        "    input_ids = []\n",
        "    attention_masks = []\n",
        "    i = 0\n",
        "    outputs=[]\n",
        "\n",
        "    for row in descbag:\n",
        "        input_data = SPECIAL_TOKENS['bos_token'] + charClass[i] + \\\n",
        "        SPECIAL_TOKENS['sep_token'] + race[i] + SPECIAL_TOKENS['sep_token'] + \\\n",
        "        name[i] + SPECIAL_TOKENS['sep_token'] + \\\n",
        "        row + SPECIAL_TOKENS['eos_token']      \n",
        "\n",
        "        # Encode data using GPT2 tokenizer\n",
        "        encoding = tokenizer(input_data,                                   \n",
        "                            truncation=True, \n",
        "                            max_length=MAXLEN, \n",
        "                            padding=\"max_length\")\n",
        "        \n",
        "        \n",
        "\n",
        "        outputs.append({'label': torch.tensor(encoding['input_ids']),\n",
        "                'input_ids': torch.tensor(encoding['input_ids']), \n",
        "                'attention_mask': torch.tensor(encoding['attention_mask'])})\n",
        "        i += 1\n",
        "\n",
        "    return outputs\"\"\""
      ],
      "metadata": {
        "id": "qnEiFeoH4gtD",
        "colab": {
          "base_uri": "https://localhost:8080/",
          "height": 108
        },
        "outputId": "a8636adb-4b3e-477a-b37d-310550c98d4a"
      },
      "execution_count": null,
      "outputs": [
        {
          "output_type": "display_data",
          "data": {
            "text/plain": [
              "<IPython.core.display.HTML object>"
            ],
            "text/html": [
              "\n",
              "  <style>\n",
              "    pre {\n",
              "        white-space: pre-wrap;\n",
              "    }\n",
              "  </style>\n",
              "  "
            ]
          },
          "metadata": {}
        },
        {
          "output_type": "execute_result",
          "data": {
            "text/plain": [
              "'def preprocess_data(name, race, charClass, descbag, tokenizer):\\n    labels = []\\n    input_ids = []\\n    attention_masks = []\\n    i = 0\\n    outputs=[]\\n\\n    for row in descbag:\\n        input_data = SPECIAL_TOKENS[\\'bos_token\\'] + charClass[i] +         SPECIAL_TOKENS[\\'sep_token\\'] + race[i] + SPECIAL_TOKENS[\\'sep_token\\'] +         name[i] + SPECIAL_TOKENS[\\'sep_token\\'] +         row + SPECIAL_TOKENS[\\'eos_token\\']      \\n\\n        # Encode data using GPT2 tokenizer\\n        encoding = tokenizer(input_data,                                   \\n                            truncation=True, \\n                            max_length=MAXLEN, \\n                            padding=\"max_length\")\\n        \\n        \\n\\n        outputs.append({\\'label\\': torch.tensor(encoding[\\'input_ids\\']),\\n                \\'input_ids\\': torch.tensor(encoding[\\'input_ids\\']), \\n                \\'attention_mask\\': torch.tensor(encoding[\\'attention_mask\\'])})\\n        i += 1\\n\\n    return outputs'"
            ],
            "application/vnd.google.colaboratory.intrinsic+json": {
              "type": "string"
            }
          },
          "metadata": {},
          "execution_count": 15
        }
      ]
    },
    {
      "cell_type": "markdown",
      "source": [
        "### Tokenizer and model\n",
        "\n",
        "Download pre-trained GPT-2 model and Tokenizer."
      ],
      "metadata": {
        "id": "KVhoHu0c7mXL"
      }
    },
    {
      "cell_type": "code",
      "source": [
        "# Get the GPT-2 Tokenizer\n",
        "\n",
        "\"\"\"def get_tokenizer(special_tokens=None):\n",
        "    tokenizer = AutoTokenizer.from_pretrained('gpt2') \n",
        "    # Add special tokens\n",
        "    if special_tokens:\n",
        "        tokenizer.add_special_tokens(special_tokens)\n",
        "    return tokenizer\"\"\""
      ],
      "metadata": {
        "id": "GTADk4R57p76",
        "colab": {
          "base_uri": "https://localhost:8080/",
          "height": 54
        },
        "outputId": "6ba842aa-6b31-41fa-d898-e7b6b401ca64"
      },
      "execution_count": null,
      "outputs": [
        {
          "output_type": "display_data",
          "data": {
            "text/plain": [
              "<IPython.core.display.HTML object>"
            ],
            "text/html": [
              "\n",
              "  <style>\n",
              "    pre {\n",
              "        white-space: pre-wrap;\n",
              "    }\n",
              "  </style>\n",
              "  "
            ]
          },
          "metadata": {}
        },
        {
          "output_type": "execute_result",
          "data": {
            "text/plain": [
              "\"def get_tokenizer(special_tokens=None):\\n    tokenizer = AutoTokenizer.from_pretrained('gpt2') \\n    # Add special tokens\\n    if special_tokens:\\n        tokenizer.add_special_tokens(special_tokens)\\n    return tokenizer\""
            ],
            "application/vnd.google.colaboratory.intrinsic+json": {
              "type": "string"
            }
          },
          "metadata": {},
          "execution_count": 16
        }
      ]
    },
    {
      "cell_type": "code",
      "source": [
        "# Get the GPT-2 model\n",
        "\n",
        "\"\"\"def get_model(tokenizer, special_tokens=None, load_model_path=None):\n",
        "\n",
        "    if special_tokens:\n",
        "        config = AutoConfig.from_pretrained('gpt2', \n",
        "                                            bos_token_id=tokenizer.bos_token_id,\n",
        "                                            eos_token_id=tokenizer.eos_token_id,\n",
        "                                            sep_token_id=tokenizer.sep_token_id,\n",
        "                                            pad_token_id=tokenizer.pad_token_id,\n",
        "                                            output_hidden_states=False)\n",
        "    else: \n",
        "        config = AutoConfig.from_pretrained('gpt2',                                     \n",
        "                                            pad_token_id=tokenizer.eos_token_id,\n",
        "                                            output_hidden_states=False)    \n",
        "\n",
        "    model = AutoModelForPreTraining.from_pretrained('gpt2', config=config)\n",
        "\n",
        "    if special_tokens:\n",
        "        # Resize the model based on the supplied special tokens\n",
        "        model.resize_token_embeddings(len(tokenizer))\n",
        "\n",
        "    if load_model_path:\n",
        "        model.load_state_dict(torch.load(load_model_path))\n",
        "\n",
        "    model.cuda()\n",
        "    return model\"\"\""
      ],
      "metadata": {
        "id": "WCrnHkYk7sIu",
        "colab": {
          "base_uri": "https://localhost:8080/",
          "height": 108
        },
        "outputId": "78e81e6b-08b3-4dd0-c317-3200296531cd"
      },
      "execution_count": null,
      "outputs": [
        {
          "output_type": "display_data",
          "data": {
            "text/plain": [
              "<IPython.core.display.HTML object>"
            ],
            "text/html": [
              "\n",
              "  <style>\n",
              "    pre {\n",
              "        white-space: pre-wrap;\n",
              "    }\n",
              "  </style>\n",
              "  "
            ]
          },
          "metadata": {}
        },
        {
          "output_type": "execute_result",
          "data": {
            "text/plain": [
              "\"def get_model(tokenizer, special_tokens=None, load_model_path=None):\\n\\n    if special_tokens:\\n        config = AutoConfig.from_pretrained('gpt2', \\n                                            bos_token_id=tokenizer.bos_token_id,\\n                                            eos_token_id=tokenizer.eos_token_id,\\n                                            sep_token_id=tokenizer.sep_token_id,\\n                                            pad_token_id=tokenizer.pad_token_id,\\n                                            output_hidden_states=False)\\n    else: \\n        config = AutoConfig.from_pretrained('gpt2',                                     \\n                                            pad_token_id=tokenizer.eos_token_id,\\n                                            output_hidden_states=False)    \\n\\n    model = AutoModelForPreTraining.from_pretrained('gpt2', config=config)\\n\\n    if special_tokens:\\n        # Resize the model based on the supplied special tokens\\n        model.resize_token_embeddings(len(tokenizer))\\n\\n    if load_model_path:\\n        model.load_state_dict(torch.load(load_model_path))\\n\\n    model.cuda()\\n    return model\""
            ],
            "application/vnd.google.colaboratory.intrinsic+json": {
              "type": "string"
            }
          },
          "metadata": {},
          "execution_count": 17
        }
      ]
    },
    {
      "cell_type": "markdown",
      "source": [
        "# Training Code"
      ],
      "metadata": {
        "id": "IAkSZBxI5oVT"
      }
    },
    {
      "cell_type": "markdown",
      "source": [
        "The code cells below outline the training phases of both models."
      ],
      "metadata": {
        "id": "qRmcTrg_5qaN"
      }
    },
    {
      "cell_type": "markdown",
      "source": [
        "### Get the tokenizer and the model"
      ],
      "metadata": {
        "id": "GZq-KR9x6OMP"
      }
    },
    {
      "cell_type": "code",
      "source": [
        "# Get the tokenizer, pass in the list of special tokens\n",
        "\"tokenizer1 = get_tokenizer(special_tokens=SPECIAL_TOKENS)\"\n",
        "\n",
        "# Get the model\n",
        "\"\"\"gpt2_model_1 = get_model(tokenizer1, \n",
        "                  special_tokens=SPECIAL_TOKENS\n",
        "                 )\n",
        "\"\"\""
      ],
      "metadata": {
        "colab": {
          "base_uri": "https://localhost:8080/",
          "height": 36
        },
        "id": "pM6TaVLG6pRY",
        "outputId": "5dd4b057-854d-459e-baab-e9f06d058c2b"
      },
      "execution_count": null,
      "outputs": [
        {
          "output_type": "display_data",
          "data": {
            "text/plain": [
              "<IPython.core.display.HTML object>"
            ],
            "text/html": [
              "\n",
              "  <style>\n",
              "    pre {\n",
              "        white-space: pre-wrap;\n",
              "    }\n",
              "  </style>\n",
              "  "
            ]
          },
          "metadata": {}
        },
        {
          "output_type": "execute_result",
          "data": {
            "text/plain": [
              "'gpt2_model_1 = get_model(tokenizer1, \\n                  special_tokens=SPECIAL_TOKENS\\n                 )\\n'"
            ],
            "application/vnd.google.colaboratory.intrinsic+json": {
              "type": "string"
            }
          },
          "metadata": {},
          "execution_count": 18
        }
      ]
    },
    {
      "cell_type": "code",
      "source": [
        "\"\"\"tokenizer2 = get_tokenizer(special_tokens=SPECIAL_TOKENS)\n",
        "\n",
        "gpt2_model_2 = get_model(tokenizer2, \n",
        "                  special_tokens=SPECIAL_TOKENS\n",
        "                 )\"\"\""
      ],
      "metadata": {
        "id": "pOR9uRUyFwyQ",
        "colab": {
          "base_uri": "https://localhost:8080/",
          "height": 36
        },
        "outputId": "8d188bed-cb81-499b-9e95-7f9119222037"
      },
      "execution_count": null,
      "outputs": [
        {
          "output_type": "display_data",
          "data": {
            "text/plain": [
              "<IPython.core.display.HTML object>"
            ],
            "text/html": [
              "\n",
              "  <style>\n",
              "    pre {\n",
              "        white-space: pre-wrap;\n",
              "    }\n",
              "  </style>\n",
              "  "
            ]
          },
          "metadata": {}
        },
        {
          "output_type": "execute_result",
          "data": {
            "text/plain": [
              "'tokenizer2 = get_tokenizer(special_tokens=SPECIAL_TOKENS)\\n\\ngpt2_model_2 = get_model(tokenizer2, \\n                  special_tokens=SPECIAL_TOKENS\\n                 )'"
            ],
            "application/vnd.google.colaboratory.intrinsic+json": {
              "type": "string"
            }
          },
          "metadata": {},
          "execution_count": 19
        }
      ]
    },
    {
      "cell_type": "markdown",
      "source": [
        "### Supply data\n",
        "\n",
        "The preprocess method is called on both datasets, and the train_test_split function is employed to obtain train and evaluation sets in 0.8:0.2 ratio."
      ],
      "metadata": {
        "id": "zhSF0BK26ddi"
      }
    },
    {
      "cell_type": "code",
      "source": [
        "### Model 1\n",
        "\n",
        "# Structure data into format of the GPT2 input for the first corpus\n",
        "\"dataset1 = preprocess_data(name1, charClass1, race1, description, tokenizer1)\"\n",
        "# Split data to obtain train and validation datasets\n",
        "\"train_dataset1, val_dataset1 = train_test_split(dataset1, test_size=0.2, random_state=42)\""
      ],
      "metadata": {
        "id": "saysDeoz6esj",
        "colab": {
          "base_uri": "https://localhost:8080/",
          "height": 36
        },
        "outputId": "388f03f5-3294-4c07-a55d-240779029162"
      },
      "execution_count": null,
      "outputs": [
        {
          "output_type": "display_data",
          "data": {
            "text/plain": [
              "<IPython.core.display.HTML object>"
            ],
            "text/html": [
              "\n",
              "  <style>\n",
              "    pre {\n",
              "        white-space: pre-wrap;\n",
              "    }\n",
              "  </style>\n",
              "  "
            ]
          },
          "metadata": {}
        },
        {
          "output_type": "execute_result",
          "data": {
            "text/plain": [
              "'train_dataset1, val_dataset1 = train_test_split(dataset1, test_size=0.2, random_state=42)'"
            ],
            "application/vnd.google.colaboratory.intrinsic+json": {
              "type": "string"
            }
          },
          "metadata": {},
          "execution_count": 20
        }
      ]
    },
    {
      "cell_type": "code",
      "source": [
        "### Model 2\n",
        "\n",
        "# Structure data into format of the GPT2 input for the second corpus\n",
        "\"\"\"dataset2 = preprocess_data(name2, charClass2, race2, background, tokenizer2)\n",
        "train_dataset2, val_dataset2 = train_test_split(dataset2, test_size=0.2, random_state=42)\"\"\""
      ],
      "metadata": {
        "colab": {
          "base_uri": "https://localhost:8080/",
          "height": 36
        },
        "id": "gmyP86fuGt8a",
        "outputId": "ddd10711-3eb3-4f40-bb27-b2530e688006"
      },
      "execution_count": null,
      "outputs": [
        {
          "output_type": "display_data",
          "data": {
            "text/plain": [
              "<IPython.core.display.HTML object>"
            ],
            "text/html": [
              "\n",
              "  <style>\n",
              "    pre {\n",
              "        white-space: pre-wrap;\n",
              "    }\n",
              "  </style>\n",
              "  "
            ]
          },
          "metadata": {}
        },
        {
          "output_type": "execute_result",
          "data": {
            "text/plain": [
              "'dataset2 = preprocess_data(name2, charClass2, race2, background, tokenizer2)\\ntrain_dataset2, val_dataset2 = train_test_split(dataset2, test_size=0.2, random_state=42)'"
            ],
            "application/vnd.google.colaboratory.intrinsic+json": {
              "type": "string"
            }
          },
          "metadata": {},
          "execution_count": 21
        }
      ]
    },
    {
      "cell_type": "markdown",
      "source": [
        "### Train GPT-2 Model 1 - For characters' descriptions"
      ],
      "metadata": {
        "id": "5ZaHT5Ha79fw"
      }
    },
    {
      "cell_type": "markdown",
      "source": [
        "The first model is the GPT-2 model trained on fantasy characters' descriptions. Supplementary 'keywords' are: characters' names, races (e.g. Elf), and classes (e.g. Ranger). \n",
        "The model is trained using the Trainer module.</br> </br>Best model gets saved. Evaluation strategy is selected to be based on epochs. Model is evaluated every 16 logging step in order to save the best-performing one. The same strategy is applied to Model 2."
      ],
      "metadata": {
        "id": "61d1gzFA8DjX"
      }
    },
    {
      "cell_type": "code",
      "source": [
        "# Specify training arguments\n",
        "\"\"\"training_args = TrainingArguments(\n",
        "    output_dir=\"/\",\n",
        "    num_train_epochs=EPOCHS,\n",
        "    per_device_train_batch_size=TRAIN_BATCHSIZE,\n",
        "    per_device_eval_batch_size=TRAIN_BATCHSIZE,\n",
        "    gradient_accumulation_steps=BATCH_UPDATE,\n",
        "    evaluation_strategy=\"epoch\",\n",
        "    save_strategy=\"epoch\",\n",
        "    logging_steps = 16,\n",
        "    fp16=True,\n",
        "    fp16_opt_level=APEX_OPT_LEVEL,\n",
        "    warmup_steps=WARMUP_STEPS,    \n",
        "    learning_rate=LR,\n",
        "    adam_epsilon=EPS,\n",
        "    weight_decay=0.01,        \n",
        "    save_total_limit=1,\n",
        "    load_best_model_at_end=True,     \n",
        ")\"\"\""
      ],
      "metadata": {
        "id": "_f_TYCVCMSTt",
        "colab": {
          "base_uri": "https://localhost:8080/",
          "height": 72
        },
        "outputId": "2190dbfc-b2d4-4590-f1ae-7c77d78ede4d"
      },
      "execution_count": null,
      "outputs": [
        {
          "output_type": "display_data",
          "data": {
            "text/plain": [
              "<IPython.core.display.HTML object>"
            ],
            "text/html": [
              "\n",
              "  <style>\n",
              "    pre {\n",
              "        white-space: pre-wrap;\n",
              "    }\n",
              "  </style>\n",
              "  "
            ]
          },
          "metadata": {}
        },
        {
          "output_type": "execute_result",
          "data": {
            "text/plain": [
              "'training_args = TrainingArguments(\\n    output_dir=\"/\",\\n    num_train_epochs=EPOCHS,\\n    per_device_train_batch_size=TRAIN_BATCHSIZE,\\n    per_device_eval_batch_size=TRAIN_BATCHSIZE,\\n    gradient_accumulation_steps=BATCH_UPDATE,\\n    evaluation_strategy=\"epoch\",\\n    save_strategy=\"epoch\",\\n    logging_steps = 16,\\n    fp16=True,\\n    fp16_opt_level=APEX_OPT_LEVEL,\\n    warmup_steps=WARMUP_STEPS,    \\n    learning_rate=LR,\\n    adam_epsilon=EPS,\\n    weight_decay=0.01,        \\n    save_total_limit=1,\\n    load_best_model_at_end=True,     \\n)'"
            ],
            "application/vnd.google.colaboratory.intrinsic+json": {
              "type": "string"
            }
          },
          "metadata": {},
          "execution_count": 22
        }
      ]
    },
    {
      "cell_type": "code",
      "source": [
        "### Train Model 1 (for descriptions) using the Trainer module\n",
        "\n",
        "\"\"\"trainer1 = Trainer(\n",
        "    model=gpt2_model_1,\n",
        "    args=training_args,    \n",
        "    train_dataset=train_dataset1,\n",
        "    eval_dataset=val_dataset1,\n",
        "    tokenizer=tokenizer1\n",
        ")\"\"\"\n",
        "\n",
        "# Train\n",
        "\"trainer1.train()\""
      ],
      "metadata": {
        "id": "yaVOMGt7MTO5",
        "colab": {
          "base_uri": "https://localhost:8080/",
          "height": 36
        },
        "outputId": "5f6cc4a3-3bae-482c-a032-5fbcb4d4324c"
      },
      "execution_count": null,
      "outputs": [
        {
          "output_type": "display_data",
          "data": {
            "text/plain": [
              "<IPython.core.display.HTML object>"
            ],
            "text/html": [
              "\n",
              "  <style>\n",
              "    pre {\n",
              "        white-space: pre-wrap;\n",
              "    }\n",
              "  </style>\n",
              "  "
            ]
          },
          "metadata": {}
        },
        {
          "output_type": "execute_result",
          "data": {
            "text/plain": [
              "'trainer1.train()'"
            ],
            "application/vnd.google.colaboratory.intrinsic+json": {
              "type": "string"
            }
          },
          "metadata": {},
          "execution_count": 23
        }
      ]
    },
    {
      "cell_type": "code",
      "source": [
        "# Save model 1\n",
        "#trainer1.save_model(\"/content/drive/MyDrive/compcreativity/modele\")"
      ],
      "metadata": {
        "id": "8EFaLGquM8LE",
        "colab": {
          "base_uri": "https://localhost:8080/",
          "height": 17
        },
        "outputId": "ccd6c039-85f0-46eb-d166-86220952488d"
      },
      "execution_count": null,
      "outputs": [
        {
          "output_type": "display_data",
          "data": {
            "text/plain": [
              "<IPython.core.display.HTML object>"
            ],
            "text/html": [
              "\n",
              "  <style>\n",
              "    pre {\n",
              "        white-space: pre-wrap;\n",
              "    }\n",
              "  </style>\n",
              "  "
            ]
          },
          "metadata": {}
        }
      ]
    },
    {
      "cell_type": "markdown",
      "source": [
        "### Train GPT-2 Model 2 - For characters' background stories"
      ],
      "metadata": {
        "id": "10e1fDRSO5Ky"
      }
    },
    {
      "cell_type": "markdown",
      "source": [
        "The second model is the GPT-2 model trained on the fantasy characters' background stories. Supplementary 'keywords' are: characters' names, races (e.g. Elf), and classes (e.g. Ranger). The model is trained using the Trainer module."
      ],
      "metadata": {
        "id": "kTHnC_2qPLOa"
      }
    },
    {
      "cell_type": "code",
      "source": [
        "### Train Model 2 (for background stories) using the Trainer module\n",
        "\n",
        "\"\"\"trainer2 = Trainer(\n",
        "    model=gpt2_model_2,\n",
        "    args=training_args,    \n",
        "    train_dataset=train_dataset2,\n",
        "    eval_dataset=val_dataset2,\n",
        "    tokenizer=tokenizer2\n",
        ")\"\"\"\n",
        "\n",
        "# Train\n",
        "\"trainer2.train()\""
      ],
      "metadata": {
        "id": "QMFXUSo0O9M6",
        "colab": {
          "base_uri": "https://localhost:8080/",
          "height": 36
        },
        "outputId": "b965c4b3-b449-4cb9-b93c-6936fa4921f0"
      },
      "execution_count": null,
      "outputs": [
        {
          "output_type": "display_data",
          "data": {
            "text/plain": [
              "<IPython.core.display.HTML object>"
            ],
            "text/html": [
              "\n",
              "  <style>\n",
              "    pre {\n",
              "        white-space: pre-wrap;\n",
              "    }\n",
              "  </style>\n",
              "  "
            ]
          },
          "metadata": {}
        },
        {
          "output_type": "execute_result",
          "data": {
            "text/plain": [
              "'trainer2.train()'"
            ],
            "application/vnd.google.colaboratory.intrinsic+json": {
              "type": "string"
            }
          },
          "metadata": {},
          "execution_count": 25
        }
      ]
    },
    {
      "cell_type": "code",
      "source": [
        "# Save model 2\n",
        "#trainer2.save_model(\"/content/drive/MyDrive/compcreativity/modelf\")"
      ],
      "metadata": {
        "id": "JybxD1jlPCly",
        "colab": {
          "base_uri": "https://localhost:8080/",
          "height": 17
        },
        "outputId": "3db44458-97e1-46bf-ece0-3dd3b81332dd"
      },
      "execution_count": null,
      "outputs": [
        {
          "output_type": "display_data",
          "data": {
            "text/plain": [
              "<IPython.core.display.HTML object>"
            ],
            "text/html": [
              "\n",
              "  <style>\n",
              "    pre {\n",
              "        white-space: pre-wrap;\n",
              "    }\n",
              "  </style>\n",
              "  "
            ]
          },
          "metadata": {}
        }
      ]
    },
    {
      "cell_type": "markdown",
      "source": [
        "### Evaluate Model 1\n",
        "\n",
        "Final loss of Model 1: 0.45804083347320557</br>\n"
      ],
      "metadata": {
        "id": "X6IXgkNVPezf"
      }
    },
    {
      "cell_type": "code",
      "source": [
        "\"trainer1.evaluate()\""
      ],
      "metadata": {
        "id": "r28Cj_g_h3rj",
        "colab": {
          "base_uri": "https://localhost:8080/"
        },
        "outputId": "27460593-e80b-4d05-9b0e-0af4b10459a9"
      },
      "execution_count": null,
      "outputs": [
        {
          "output_type": "display_data",
          "data": {
            "text/plain": [
              "<IPython.core.display.HTML object>"
            ],
            "text/html": [
              "\n",
              "  <style>\n",
              "    pre {\n",
              "        white-space: pre-wrap;\n",
              "    }\n",
              "  </style>\n",
              "  "
            ]
          },
          "metadata": {}
        },
        {
          "output_type": "execute_result",
          "data": {
            "text/plain": [
              "'trainer1.evaluate()'"
            ],
            "application/vnd.google.colaboratory.intrinsic+json": {
              "type": "string"
            }
          },
          "metadata": {},
          "execution_count": 27
        }
      ]
    },
    {
      "cell_type": "markdown",
      "source": [
        "### Evaluate Model 2\n",
        "Final loss of Model 2: 0.6762203574180603"
      ],
      "metadata": {
        "id": "3AISkMU0h7dO"
      }
    },
    {
      "cell_type": "code",
      "source": [
        "\"trainer2.evaluate()\""
      ],
      "metadata": {
        "id": "ypIVU2H3iCB5",
        "colab": {
          "base_uri": "https://localhost:8080/"
        },
        "outputId": "03b78870-4803-459e-9972-a5bc6c75dcbd"
      },
      "execution_count": null,
      "outputs": [
        {
          "output_type": "display_data",
          "data": {
            "text/plain": [
              "<IPython.core.display.HTML object>"
            ],
            "text/html": [
              "\n",
              "  <style>\n",
              "    pre {\n",
              "        white-space: pre-wrap;\n",
              "    }\n",
              "  </style>\n",
              "  "
            ]
          },
          "metadata": {}
        },
        {
          "output_type": "execute_result",
          "data": {
            "text/plain": [
              "'trainer2.evaluate()'"
            ],
            "application/vnd.google.colaboratory.intrinsic+json": {
              "type": "string"
            }
          },
          "metadata": {},
          "execution_count": 28
        }
      ]
    },
    {
      "cell_type": "markdown",
      "source": [
        "# Generation Code"
      ],
      "metadata": {
        "id": "Spb3qj94Pg_C"
      }
    },
    {
      "cell_type": "markdown",
      "source": [
        "#### Set parameters for samples generation"
      ],
      "metadata": {
        "id": "93QHlfNe4_s8"
      }
    },
    {
      "cell_type": "code",
      "source": [
        "DEBUG = False\n",
        "INPUT_DIR = '/'\n",
        "USE_APEX = True\n",
        "APEX_OPT_LEVEL = 'O1'\n",
        "MODEL = 'gpt2' \n",
        "UNFREEZE_LAST_N = 6 \n",
        "# Special tokens for the model\n",
        "SPECIAL_TOKENS  = { \"bos_token\": \"<|BOS|>\",\n",
        "                    \"eos_token\": \"<|EOS|>\",\n",
        "                    \"unk_token\": \"<|UNK|>\",                    \n",
        "                    \"pad_token\": \"<|PAD|>\",\n",
        "                    \"sep_token\": \"<|SEP|>\"}\n",
        "                    \n",
        "MAXLEN = 1024  #{768, 1024, 1280, 1600}\n",
        "# Size of the training set\n",
        "TRAIN_SIZE      = 0.8\n",
        "if USE_APEX:\n",
        "    TRAIN_BATCHSIZE = 4\n",
        "    BATCH_UPDATE    = 16\n",
        "else:\n",
        "    TRAIN_BATCHSIZE = 2\n",
        "    BATCH_UPDATE    = 32\n",
        "EPOCHS = 4\n",
        "LR = 5e-4\n",
        "EPS = 1e-8\n",
        "WARMUP_STEPS = 1e2\n",
        "SEED = 2020"
      ],
      "metadata": {
        "colab": {
          "base_uri": "https://localhost:8080/",
          "height": 17
        },
        "id": "5QA6bAIG5EW0",
        "outputId": "82614c01-849d-4d6e-daba-b541fd72bf53"
      },
      "execution_count": null,
      "outputs": [
        {
          "output_type": "display_data",
          "data": {
            "text/plain": [
              "<IPython.core.display.HTML object>"
            ],
            "text/html": [
              "\n",
              "  <style>\n",
              "    pre {\n",
              "        white-space: pre-wrap;\n",
              "    }\n",
              "  </style>\n",
              "  "
            ]
          },
          "metadata": {}
        }
      ]
    },
    {
      "cell_type": "markdown",
      "source": [
        "#### Get GPT-2 Model and Tokenizer"
      ],
      "metadata": {
        "id": "F6pmrnr05H9n"
      }
    },
    {
      "cell_type": "code",
      "source": [
        "# Method to download the pre-trained GPT2 Tokenizer\n",
        "\n",
        "def get_tokenizer(special_tokens=None):\n",
        "    tokenizer = AutoTokenizer.from_pretrained('gpt2') \n",
        "    # Add special tokens\n",
        "    if special_tokens:\n",
        "        tokenizer.add_special_tokens(special_tokens)\n",
        "    return tokenizer"
      ],
      "metadata": {
        "colab": {
          "base_uri": "https://localhost:8080/",
          "height": 17
        },
        "id": "hzxRt0RX5UQg",
        "outputId": "99d4a045-02b3-4a20-8260-d0eae4f0285c"
      },
      "execution_count": null,
      "outputs": [
        {
          "output_type": "display_data",
          "data": {
            "text/plain": [
              "<IPython.core.display.HTML object>"
            ],
            "text/html": [
              "\n",
              "  <style>\n",
              "    pre {\n",
              "        white-space: pre-wrap;\n",
              "    }\n",
              "  </style>\n",
              "  "
            ]
          },
          "metadata": {}
        }
      ]
    },
    {
      "cell_type": "code",
      "source": [
        "# Method to download the pre-trained GPT2 model\n",
        "\n",
        "def get_model(tokenizer, special_tokens=None, load_model_path=None):\n",
        "\n",
        "    if special_tokens:\n",
        "        config = AutoConfig.from_pretrained('gpt2', \n",
        "                                            bos_token_id=tokenizer.bos_token_id,\n",
        "                                            eos_token_id=tokenizer.eos_token_id,\n",
        "                                            sep_token_id=tokenizer.sep_token_id,\n",
        "                                            pad_token_id=tokenizer.pad_token_id,\n",
        "                                            output_hidden_states=False)\n",
        "    else: \n",
        "        config = AutoConfig.from_pretrained('gpt2',                                     \n",
        "                                            pad_token_id=tokenizer.eos_token_id,\n",
        "                                            output_hidden_states=False)    \n",
        "\n",
        "    model = AutoModelForPreTraining.from_pretrained('gpt2', config=config)\n",
        "\n",
        "    if special_tokens:\n",
        "        # Resize the model based on the supplied special tokens\n",
        "        model.resize_token_embeddings(len(tokenizer))\n",
        "\n",
        "    if load_model_path:\n",
        "        model.load_state_dict(torch.load(load_model_path))\n",
        "\n",
        "    model.cuda()\n",
        "    return model"
      ],
      "metadata": {
        "colab": {
          "base_uri": "https://localhost:8080/",
          "height": 17
        },
        "id": "bOKryvDt5d2Q",
        "outputId": "b21d6113-7324-45ef-c104-6de13f7ae718"
      },
      "execution_count": null,
      "outputs": [
        {
          "output_type": "display_data",
          "data": {
            "text/plain": [
              "<IPython.core.display.HTML object>"
            ],
            "text/html": [
              "\n",
              "  <style>\n",
              "    pre {\n",
              "        white-space: pre-wrap;\n",
              "    }\n",
              "  </style>\n",
              "  "
            ]
          },
          "metadata": {}
        }
      ]
    },
    {
      "cell_type": "code",
      "source": [
        "# Get the tokenizer, pass in the list of special tokens\n",
        "tokenizer1 = get_tokenizer(special_tokens=SPECIAL_TOKENS)\n",
        "\n",
        "# Get the model (for Model 1)\n",
        "gpt2_model_1 = get_model(tokenizer1, \n",
        "                  special_tokens=SPECIAL_TOKENS\n",
        "                 )"
      ],
      "metadata": {
        "colab": {
          "base_uri": "https://localhost:8080/",
          "height": 177,
          "referenced_widgets": [
            "fbc412eca8a7423db484a4dcab10e39c",
            "56d4a67b7db14a4ab9e0872a6f5984ea",
            "4b693b83c482466ab4f4a79dcc86dc16",
            "601fc38310794344829fbbf5bf77b02b",
            "d68e16764679415ba0a23f8faed56e28",
            "c9eb59baf4534062a6299df682c4b3cf",
            "4ceb030dd80a44bab49dd1da34d3acc4",
            "dd5d7d93d65244f9974b90dfe2484a1c",
            "9ee4f454a26f4a43a3cb15d123e36652",
            "358c049117f14251928fc6ee5a9f8e58",
            "19c190a392f74e3084a8dbe3f5c87e1a",
            "5070017e78db4575a627b7609f67721f",
            "34881dfc243a465a88380a18c66a48c3",
            "d72fe39f66464e03824af0c6af746755",
            "1cf0b74485514bcfa3f87d8aad211cef",
            "21bec57dbb46471e90be54e56f6cbe75",
            "2036575c99244adab8498b9dc23d7f70",
            "becd4754c2fb470b865c0168ec184cc3",
            "fbb99e40fc2f4b25a03f269e8ed66e55",
            "726bdf9050024cd6bf40df91490adf3b",
            "d5ec4dd3986048e2b6497b32e744cb05",
            "d3133f4ee8734d2ea9451cae9d0d9adb",
            "c2ac674af3fb48ca8f054d8ce694085d",
            "9bff81a0689d4cffaf77e37cf4452a79",
            "f137550e08424cd988303ee6ae3c2165",
            "e379e3f3781a43879e1c042a8d91ba63",
            "912473c0e3f0498d9cf5fcefea358adc",
            "83fad5c9f1944349930dcd7baab6416f",
            "c8ae3021c0334acebd44cfa893be6ca5",
            "8f2ba83559884c63915ffba6891aef19",
            "be6b9abf010346ababc2fc0fc578b121",
            "b5ba18ac402841cea5cdd2d7a5e88d57",
            "ee16c0b091834c81876332cac639aadb",
            "c8e75a3f103e41feb2a46e8749cbc34a",
            "335f17a444e84a39b5def6730e7ecd0e",
            "55c65c96c67444739d120ac84cdd7877",
            "b8d24409b9974f678ac51c2697477aeb",
            "3f3dc4feac89476a818a473707745088",
            "eb783d9dab6c4a478e684c9e1a9a87ad",
            "98f17b99aae84928809c5bbb2e80228b",
            "eb4f8d6253694a3bb2428f78b3da5745",
            "56e680ffb5964a2da8d804328c3f65cc",
            "fa2b17a5b13c4b628181dac59c38a08e",
            "61faf7b0784a478fbdfb1611d534d53d",
            "fd512a005d734eca9ad37686fb7ab8d8",
            "27fec6ca98d74def8e96ecbecd06077f",
            "7b997d0c781d4c6bb0eecf7013967672",
            "1225350e1bb643c18cfa077ef4ea6380",
            "7a13669dd6a24aff9a2df81f1084a560",
            "59f882fe8d494775ae551f80afe2f8d4",
            "04ccef3939b246e69b5159284651eab4",
            "caa9abe745f0456a9d10b0c5d7eabc16",
            "da42facb72a94750966cb0650ec85833",
            "bbc1f4cee99b4f3f80204e381347f69a",
            "c1efc1a15491491abee7fa283be02bfa"
          ]
        },
        "id": "IKPjp28t6P7V",
        "outputId": "232e8028-94b7-4259-b41b-0931ee744667"
      },
      "execution_count": null,
      "outputs": [
        {
          "output_type": "display_data",
          "data": {
            "text/plain": [
              "<IPython.core.display.HTML object>"
            ],
            "text/html": [
              "\n",
              "  <style>\n",
              "    pre {\n",
              "        white-space: pre-wrap;\n",
              "    }\n",
              "  </style>\n",
              "  "
            ]
          },
          "metadata": {}
        },
        {
          "output_type": "display_data",
          "data": {
            "text/plain": [
              "Downloading:   0%|          | 0.00/665 [00:00<?, ?B/s]"
            ],
            "application/vnd.jupyter.widget-view+json": {
              "version_major": 2,
              "version_minor": 0,
              "model_id": "fbc412eca8a7423db484a4dcab10e39c"
            }
          },
          "metadata": {}
        },
        {
          "output_type": "display_data",
          "data": {
            "text/plain": [
              "Downloading:   0%|          | 0.00/0.99M [00:00<?, ?B/s]"
            ],
            "application/vnd.jupyter.widget-view+json": {
              "version_major": 2,
              "version_minor": 0,
              "model_id": "5070017e78db4575a627b7609f67721f"
            }
          },
          "metadata": {}
        },
        {
          "output_type": "display_data",
          "data": {
            "text/plain": [
              "Downloading:   0%|          | 0.00/446k [00:00<?, ?B/s]"
            ],
            "application/vnd.jupyter.widget-view+json": {
              "version_major": 2,
              "version_minor": 0,
              "model_id": "c2ac674af3fb48ca8f054d8ce694085d"
            }
          },
          "metadata": {}
        },
        {
          "output_type": "display_data",
          "data": {
            "text/plain": [
              "Downloading:   0%|          | 0.00/1.29M [00:00<?, ?B/s]"
            ],
            "application/vnd.jupyter.widget-view+json": {
              "version_major": 2,
              "version_minor": 0,
              "model_id": "c8e75a3f103e41feb2a46e8749cbc34a"
            }
          },
          "metadata": {}
        },
        {
          "output_type": "display_data",
          "data": {
            "text/plain": [
              "Downloading:   0%|          | 0.00/523M [00:00<?, ?B/s]"
            ],
            "application/vnd.jupyter.widget-view+json": {
              "version_major": 2,
              "version_minor": 0,
              "model_id": "fd512a005d734eca9ad37686fb7ab8d8"
            }
          },
          "metadata": {}
        }
      ]
    },
    {
      "cell_type": "code",
      "source": [
        "# Get the tokenizer and pre-trained GPT-2 model for Model 2\n",
        "tokenizer2 = get_tokenizer(special_tokens=SPECIAL_TOKENS)\n",
        "\n",
        "gpt2_model_2 = get_model(tokenizer2, \n",
        "                  special_tokens=SPECIAL_TOKENS\n",
        "                 )"
      ],
      "metadata": {
        "colab": {
          "base_uri": "https://localhost:8080/",
          "height": 17
        },
        "id": "adsrnxUo6e9M",
        "outputId": "a7966212-c4e1-46bd-86d1-04b1713916f6"
      },
      "execution_count": null,
      "outputs": [
        {
          "output_type": "display_data",
          "data": {
            "text/plain": [
              "<IPython.core.display.HTML object>"
            ],
            "text/html": [
              "\n",
              "  <style>\n",
              "    pre {\n",
              "        white-space: pre-wrap;\n",
              "    }\n",
              "  </style>\n",
              "  "
            ]
          },
          "metadata": {}
        }
      ]
    },
    {
      "cell_type": "markdown",
      "source": [
        "#### Download models"
      ],
      "metadata": {
        "id": "EDGKDXsHSXYR"
      }
    },
    {
      "cell_type": "code",
      "source": [
        "#!pip install --upgrade --no-cache-dir gdown"
      ],
      "metadata": {
        "colab": {
          "base_uri": "https://localhost:8080/",
          "height": 17
        },
        "id": "fQTokMapW1tv",
        "outputId": "97455b5a-9a73-4ced-aede-5f6f5f0438e5"
      },
      "execution_count": null,
      "outputs": [
        {
          "output_type": "display_data",
          "data": {
            "text/plain": [
              "<IPython.core.display.HTML object>"
            ],
            "text/html": [
              "\n",
              "  <style>\n",
              "    pre {\n",
              "        white-space: pre-wrap;\n",
              "    }\n",
              "  </style>\n",
              "  "
            ]
          },
          "metadata": {}
        }
      ]
    },
    {
      "cell_type": "code",
      "source": [
        "import gdown, os\n",
        "\n",
        "# Folder with the models\n",
        "url = \"https://drive.google.com/drive/folders/1t_ePeea0GCxYxP7FWUzbjP3Dab3mRKvq\"\n",
        "\n",
        "download_successful = None \n",
        "while download_successful == None:\n",
        "    download_successful = gdown.download_folder(url, quiet=True, use_cookies=False)\n",
        "    os.system('rm ~/.cache/gdown/cookies.json')"
      ],
      "metadata": {
        "colab": {
          "base_uri": "https://localhost:8080/",
          "height": 17
        },
        "id": "0V7vH2JaSZE6",
        "outputId": "7f791f41-c53d-45ac-996e-6d9f0fe4be33"
      },
      "execution_count": null,
      "outputs": [
        {
          "output_type": "display_data",
          "data": {
            "text/plain": [
              "<IPython.core.display.HTML object>"
            ],
            "text/html": [
              "\n",
              "  <style>\n",
              "    pre {\n",
              "        white-space: pre-wrap;\n",
              "    }\n",
              "  </style>\n",
              "  "
            ]
          },
          "metadata": {}
        }
      ]
    },
    {
      "cell_type": "code",
      "source": [
        "# Load fine-tuned Model 1\n",
        "gpt2_model_1.load_state_dict(torch.load('Models/Model1/pytorch_model.bin'))\n",
        "gpt2_model_1.eval()"
      ],
      "metadata": {
        "colab": {
          "base_uri": "https://localhost:8080/",
          "height": 1000
        },
        "id": "Be4I14usS5AZ",
        "outputId": "bfc0ee47-da4e-474d-84fb-716aa1ecf147"
      },
      "execution_count": null,
      "outputs": [
        {
          "output_type": "display_data",
          "data": {
            "text/plain": [
              "<IPython.core.display.HTML object>"
            ],
            "text/html": [
              "\n",
              "  <style>\n",
              "    pre {\n",
              "        white-space: pre-wrap;\n",
              "    }\n",
              "  </style>\n",
              "  "
            ]
          },
          "metadata": {}
        },
        {
          "output_type": "execute_result",
          "data": {
            "text/plain": [
              "GPT2LMHeadModel(\n",
              "  (transformer): GPT2Model(\n",
              "    (wte): Embedding(50262, 768)\n",
              "    (wpe): Embedding(1024, 768)\n",
              "    (drop): Dropout(p=0.1, inplace=False)\n",
              "    (h): ModuleList(\n",
              "      (0): GPT2Block(\n",
              "        (ln_1): LayerNorm((768,), eps=1e-05, elementwise_affine=True)\n",
              "        (attn): GPT2Attention(\n",
              "          (c_attn): Conv1D()\n",
              "          (c_proj): Conv1D()\n",
              "          (attn_dropout): Dropout(p=0.1, inplace=False)\n",
              "          (resid_dropout): Dropout(p=0.1, inplace=False)\n",
              "        )\n",
              "        (ln_2): LayerNorm((768,), eps=1e-05, elementwise_affine=True)\n",
              "        (mlp): GPT2MLP(\n",
              "          (c_fc): Conv1D()\n",
              "          (c_proj): Conv1D()\n",
              "          (act): NewGELUActivation()\n",
              "          (dropout): Dropout(p=0.1, inplace=False)\n",
              "        )\n",
              "      )\n",
              "      (1): GPT2Block(\n",
              "        (ln_1): LayerNorm((768,), eps=1e-05, elementwise_affine=True)\n",
              "        (attn): GPT2Attention(\n",
              "          (c_attn): Conv1D()\n",
              "          (c_proj): Conv1D()\n",
              "          (attn_dropout): Dropout(p=0.1, inplace=False)\n",
              "          (resid_dropout): Dropout(p=0.1, inplace=False)\n",
              "        )\n",
              "        (ln_2): LayerNorm((768,), eps=1e-05, elementwise_affine=True)\n",
              "        (mlp): GPT2MLP(\n",
              "          (c_fc): Conv1D()\n",
              "          (c_proj): Conv1D()\n",
              "          (act): NewGELUActivation()\n",
              "          (dropout): Dropout(p=0.1, inplace=False)\n",
              "        )\n",
              "      )\n",
              "      (2): GPT2Block(\n",
              "        (ln_1): LayerNorm((768,), eps=1e-05, elementwise_affine=True)\n",
              "        (attn): GPT2Attention(\n",
              "          (c_attn): Conv1D()\n",
              "          (c_proj): Conv1D()\n",
              "          (attn_dropout): Dropout(p=0.1, inplace=False)\n",
              "          (resid_dropout): Dropout(p=0.1, inplace=False)\n",
              "        )\n",
              "        (ln_2): LayerNorm((768,), eps=1e-05, elementwise_affine=True)\n",
              "        (mlp): GPT2MLP(\n",
              "          (c_fc): Conv1D()\n",
              "          (c_proj): Conv1D()\n",
              "          (act): NewGELUActivation()\n",
              "          (dropout): Dropout(p=0.1, inplace=False)\n",
              "        )\n",
              "      )\n",
              "      (3): GPT2Block(\n",
              "        (ln_1): LayerNorm((768,), eps=1e-05, elementwise_affine=True)\n",
              "        (attn): GPT2Attention(\n",
              "          (c_attn): Conv1D()\n",
              "          (c_proj): Conv1D()\n",
              "          (attn_dropout): Dropout(p=0.1, inplace=False)\n",
              "          (resid_dropout): Dropout(p=0.1, inplace=False)\n",
              "        )\n",
              "        (ln_2): LayerNorm((768,), eps=1e-05, elementwise_affine=True)\n",
              "        (mlp): GPT2MLP(\n",
              "          (c_fc): Conv1D()\n",
              "          (c_proj): Conv1D()\n",
              "          (act): NewGELUActivation()\n",
              "          (dropout): Dropout(p=0.1, inplace=False)\n",
              "        )\n",
              "      )\n",
              "      (4): GPT2Block(\n",
              "        (ln_1): LayerNorm((768,), eps=1e-05, elementwise_affine=True)\n",
              "        (attn): GPT2Attention(\n",
              "          (c_attn): Conv1D()\n",
              "          (c_proj): Conv1D()\n",
              "          (attn_dropout): Dropout(p=0.1, inplace=False)\n",
              "          (resid_dropout): Dropout(p=0.1, inplace=False)\n",
              "        )\n",
              "        (ln_2): LayerNorm((768,), eps=1e-05, elementwise_affine=True)\n",
              "        (mlp): GPT2MLP(\n",
              "          (c_fc): Conv1D()\n",
              "          (c_proj): Conv1D()\n",
              "          (act): NewGELUActivation()\n",
              "          (dropout): Dropout(p=0.1, inplace=False)\n",
              "        )\n",
              "      )\n",
              "      (5): GPT2Block(\n",
              "        (ln_1): LayerNorm((768,), eps=1e-05, elementwise_affine=True)\n",
              "        (attn): GPT2Attention(\n",
              "          (c_attn): Conv1D()\n",
              "          (c_proj): Conv1D()\n",
              "          (attn_dropout): Dropout(p=0.1, inplace=False)\n",
              "          (resid_dropout): Dropout(p=0.1, inplace=False)\n",
              "        )\n",
              "        (ln_2): LayerNorm((768,), eps=1e-05, elementwise_affine=True)\n",
              "        (mlp): GPT2MLP(\n",
              "          (c_fc): Conv1D()\n",
              "          (c_proj): Conv1D()\n",
              "          (act): NewGELUActivation()\n",
              "          (dropout): Dropout(p=0.1, inplace=False)\n",
              "        )\n",
              "      )\n",
              "      (6): GPT2Block(\n",
              "        (ln_1): LayerNorm((768,), eps=1e-05, elementwise_affine=True)\n",
              "        (attn): GPT2Attention(\n",
              "          (c_attn): Conv1D()\n",
              "          (c_proj): Conv1D()\n",
              "          (attn_dropout): Dropout(p=0.1, inplace=False)\n",
              "          (resid_dropout): Dropout(p=0.1, inplace=False)\n",
              "        )\n",
              "        (ln_2): LayerNorm((768,), eps=1e-05, elementwise_affine=True)\n",
              "        (mlp): GPT2MLP(\n",
              "          (c_fc): Conv1D()\n",
              "          (c_proj): Conv1D()\n",
              "          (act): NewGELUActivation()\n",
              "          (dropout): Dropout(p=0.1, inplace=False)\n",
              "        )\n",
              "      )\n",
              "      (7): GPT2Block(\n",
              "        (ln_1): LayerNorm((768,), eps=1e-05, elementwise_affine=True)\n",
              "        (attn): GPT2Attention(\n",
              "          (c_attn): Conv1D()\n",
              "          (c_proj): Conv1D()\n",
              "          (attn_dropout): Dropout(p=0.1, inplace=False)\n",
              "          (resid_dropout): Dropout(p=0.1, inplace=False)\n",
              "        )\n",
              "        (ln_2): LayerNorm((768,), eps=1e-05, elementwise_affine=True)\n",
              "        (mlp): GPT2MLP(\n",
              "          (c_fc): Conv1D()\n",
              "          (c_proj): Conv1D()\n",
              "          (act): NewGELUActivation()\n",
              "          (dropout): Dropout(p=0.1, inplace=False)\n",
              "        )\n",
              "      )\n",
              "      (8): GPT2Block(\n",
              "        (ln_1): LayerNorm((768,), eps=1e-05, elementwise_affine=True)\n",
              "        (attn): GPT2Attention(\n",
              "          (c_attn): Conv1D()\n",
              "          (c_proj): Conv1D()\n",
              "          (attn_dropout): Dropout(p=0.1, inplace=False)\n",
              "          (resid_dropout): Dropout(p=0.1, inplace=False)\n",
              "        )\n",
              "        (ln_2): LayerNorm((768,), eps=1e-05, elementwise_affine=True)\n",
              "        (mlp): GPT2MLP(\n",
              "          (c_fc): Conv1D()\n",
              "          (c_proj): Conv1D()\n",
              "          (act): NewGELUActivation()\n",
              "          (dropout): Dropout(p=0.1, inplace=False)\n",
              "        )\n",
              "      )\n",
              "      (9): GPT2Block(\n",
              "        (ln_1): LayerNorm((768,), eps=1e-05, elementwise_affine=True)\n",
              "        (attn): GPT2Attention(\n",
              "          (c_attn): Conv1D()\n",
              "          (c_proj): Conv1D()\n",
              "          (attn_dropout): Dropout(p=0.1, inplace=False)\n",
              "          (resid_dropout): Dropout(p=0.1, inplace=False)\n",
              "        )\n",
              "        (ln_2): LayerNorm((768,), eps=1e-05, elementwise_affine=True)\n",
              "        (mlp): GPT2MLP(\n",
              "          (c_fc): Conv1D()\n",
              "          (c_proj): Conv1D()\n",
              "          (act): NewGELUActivation()\n",
              "          (dropout): Dropout(p=0.1, inplace=False)\n",
              "        )\n",
              "      )\n",
              "      (10): GPT2Block(\n",
              "        (ln_1): LayerNorm((768,), eps=1e-05, elementwise_affine=True)\n",
              "        (attn): GPT2Attention(\n",
              "          (c_attn): Conv1D()\n",
              "          (c_proj): Conv1D()\n",
              "          (attn_dropout): Dropout(p=0.1, inplace=False)\n",
              "          (resid_dropout): Dropout(p=0.1, inplace=False)\n",
              "        )\n",
              "        (ln_2): LayerNorm((768,), eps=1e-05, elementwise_affine=True)\n",
              "        (mlp): GPT2MLP(\n",
              "          (c_fc): Conv1D()\n",
              "          (c_proj): Conv1D()\n",
              "          (act): NewGELUActivation()\n",
              "          (dropout): Dropout(p=0.1, inplace=False)\n",
              "        )\n",
              "      )\n",
              "      (11): GPT2Block(\n",
              "        (ln_1): LayerNorm((768,), eps=1e-05, elementwise_affine=True)\n",
              "        (attn): GPT2Attention(\n",
              "          (c_attn): Conv1D()\n",
              "          (c_proj): Conv1D()\n",
              "          (attn_dropout): Dropout(p=0.1, inplace=False)\n",
              "          (resid_dropout): Dropout(p=0.1, inplace=False)\n",
              "        )\n",
              "        (ln_2): LayerNorm((768,), eps=1e-05, elementwise_affine=True)\n",
              "        (mlp): GPT2MLP(\n",
              "          (c_fc): Conv1D()\n",
              "          (c_proj): Conv1D()\n",
              "          (act): NewGELUActivation()\n",
              "          (dropout): Dropout(p=0.1, inplace=False)\n",
              "        )\n",
              "      )\n",
              "    )\n",
              "    (ln_f): LayerNorm((768,), eps=1e-05, elementwise_affine=True)\n",
              "  )\n",
              "  (lm_head): Linear(in_features=768, out_features=50262, bias=False)\n",
              ")"
            ]
          },
          "metadata": {},
          "execution_count": 36
        }
      ]
    },
    {
      "cell_type": "code",
      "source": [
        "# Load fine-tuned Model 2\n",
        "gpt2_model_2.load_state_dict(torch.load('Models/Model2/pytorch_model.bin'))\n",
        "gpt2_model_2.eval()"
      ],
      "metadata": {
        "colab": {
          "base_uri": "https://localhost:8080/",
          "height": 1000
        },
        "id": "6Lj_dRZLS69x",
        "outputId": "ceec8855-d6ee-4e70-a598-8524f839df7b"
      },
      "execution_count": null,
      "outputs": [
        {
          "output_type": "display_data",
          "data": {
            "text/plain": [
              "<IPython.core.display.HTML object>"
            ],
            "text/html": [
              "\n",
              "  <style>\n",
              "    pre {\n",
              "        white-space: pre-wrap;\n",
              "    }\n",
              "  </style>\n",
              "  "
            ]
          },
          "metadata": {}
        },
        {
          "output_type": "execute_result",
          "data": {
            "text/plain": [
              "GPT2LMHeadModel(\n",
              "  (transformer): GPT2Model(\n",
              "    (wte): Embedding(50262, 768)\n",
              "    (wpe): Embedding(1024, 768)\n",
              "    (drop): Dropout(p=0.1, inplace=False)\n",
              "    (h): ModuleList(\n",
              "      (0): GPT2Block(\n",
              "        (ln_1): LayerNorm((768,), eps=1e-05, elementwise_affine=True)\n",
              "        (attn): GPT2Attention(\n",
              "          (c_attn): Conv1D()\n",
              "          (c_proj): Conv1D()\n",
              "          (attn_dropout): Dropout(p=0.1, inplace=False)\n",
              "          (resid_dropout): Dropout(p=0.1, inplace=False)\n",
              "        )\n",
              "        (ln_2): LayerNorm((768,), eps=1e-05, elementwise_affine=True)\n",
              "        (mlp): GPT2MLP(\n",
              "          (c_fc): Conv1D()\n",
              "          (c_proj): Conv1D()\n",
              "          (act): NewGELUActivation()\n",
              "          (dropout): Dropout(p=0.1, inplace=False)\n",
              "        )\n",
              "      )\n",
              "      (1): GPT2Block(\n",
              "        (ln_1): LayerNorm((768,), eps=1e-05, elementwise_affine=True)\n",
              "        (attn): GPT2Attention(\n",
              "          (c_attn): Conv1D()\n",
              "          (c_proj): Conv1D()\n",
              "          (attn_dropout): Dropout(p=0.1, inplace=False)\n",
              "          (resid_dropout): Dropout(p=0.1, inplace=False)\n",
              "        )\n",
              "        (ln_2): LayerNorm((768,), eps=1e-05, elementwise_affine=True)\n",
              "        (mlp): GPT2MLP(\n",
              "          (c_fc): Conv1D()\n",
              "          (c_proj): Conv1D()\n",
              "          (act): NewGELUActivation()\n",
              "          (dropout): Dropout(p=0.1, inplace=False)\n",
              "        )\n",
              "      )\n",
              "      (2): GPT2Block(\n",
              "        (ln_1): LayerNorm((768,), eps=1e-05, elementwise_affine=True)\n",
              "        (attn): GPT2Attention(\n",
              "          (c_attn): Conv1D()\n",
              "          (c_proj): Conv1D()\n",
              "          (attn_dropout): Dropout(p=0.1, inplace=False)\n",
              "          (resid_dropout): Dropout(p=0.1, inplace=False)\n",
              "        )\n",
              "        (ln_2): LayerNorm((768,), eps=1e-05, elementwise_affine=True)\n",
              "        (mlp): GPT2MLP(\n",
              "          (c_fc): Conv1D()\n",
              "          (c_proj): Conv1D()\n",
              "          (act): NewGELUActivation()\n",
              "          (dropout): Dropout(p=0.1, inplace=False)\n",
              "        )\n",
              "      )\n",
              "      (3): GPT2Block(\n",
              "        (ln_1): LayerNorm((768,), eps=1e-05, elementwise_affine=True)\n",
              "        (attn): GPT2Attention(\n",
              "          (c_attn): Conv1D()\n",
              "          (c_proj): Conv1D()\n",
              "          (attn_dropout): Dropout(p=0.1, inplace=False)\n",
              "          (resid_dropout): Dropout(p=0.1, inplace=False)\n",
              "        )\n",
              "        (ln_2): LayerNorm((768,), eps=1e-05, elementwise_affine=True)\n",
              "        (mlp): GPT2MLP(\n",
              "          (c_fc): Conv1D()\n",
              "          (c_proj): Conv1D()\n",
              "          (act): NewGELUActivation()\n",
              "          (dropout): Dropout(p=0.1, inplace=False)\n",
              "        )\n",
              "      )\n",
              "      (4): GPT2Block(\n",
              "        (ln_1): LayerNorm((768,), eps=1e-05, elementwise_affine=True)\n",
              "        (attn): GPT2Attention(\n",
              "          (c_attn): Conv1D()\n",
              "          (c_proj): Conv1D()\n",
              "          (attn_dropout): Dropout(p=0.1, inplace=False)\n",
              "          (resid_dropout): Dropout(p=0.1, inplace=False)\n",
              "        )\n",
              "        (ln_2): LayerNorm((768,), eps=1e-05, elementwise_affine=True)\n",
              "        (mlp): GPT2MLP(\n",
              "          (c_fc): Conv1D()\n",
              "          (c_proj): Conv1D()\n",
              "          (act): NewGELUActivation()\n",
              "          (dropout): Dropout(p=0.1, inplace=False)\n",
              "        )\n",
              "      )\n",
              "      (5): GPT2Block(\n",
              "        (ln_1): LayerNorm((768,), eps=1e-05, elementwise_affine=True)\n",
              "        (attn): GPT2Attention(\n",
              "          (c_attn): Conv1D()\n",
              "          (c_proj): Conv1D()\n",
              "          (attn_dropout): Dropout(p=0.1, inplace=False)\n",
              "          (resid_dropout): Dropout(p=0.1, inplace=False)\n",
              "        )\n",
              "        (ln_2): LayerNorm((768,), eps=1e-05, elementwise_affine=True)\n",
              "        (mlp): GPT2MLP(\n",
              "          (c_fc): Conv1D()\n",
              "          (c_proj): Conv1D()\n",
              "          (act): NewGELUActivation()\n",
              "          (dropout): Dropout(p=0.1, inplace=False)\n",
              "        )\n",
              "      )\n",
              "      (6): GPT2Block(\n",
              "        (ln_1): LayerNorm((768,), eps=1e-05, elementwise_affine=True)\n",
              "        (attn): GPT2Attention(\n",
              "          (c_attn): Conv1D()\n",
              "          (c_proj): Conv1D()\n",
              "          (attn_dropout): Dropout(p=0.1, inplace=False)\n",
              "          (resid_dropout): Dropout(p=0.1, inplace=False)\n",
              "        )\n",
              "        (ln_2): LayerNorm((768,), eps=1e-05, elementwise_affine=True)\n",
              "        (mlp): GPT2MLP(\n",
              "          (c_fc): Conv1D()\n",
              "          (c_proj): Conv1D()\n",
              "          (act): NewGELUActivation()\n",
              "          (dropout): Dropout(p=0.1, inplace=False)\n",
              "        )\n",
              "      )\n",
              "      (7): GPT2Block(\n",
              "        (ln_1): LayerNorm((768,), eps=1e-05, elementwise_affine=True)\n",
              "        (attn): GPT2Attention(\n",
              "          (c_attn): Conv1D()\n",
              "          (c_proj): Conv1D()\n",
              "          (attn_dropout): Dropout(p=0.1, inplace=False)\n",
              "          (resid_dropout): Dropout(p=0.1, inplace=False)\n",
              "        )\n",
              "        (ln_2): LayerNorm((768,), eps=1e-05, elementwise_affine=True)\n",
              "        (mlp): GPT2MLP(\n",
              "          (c_fc): Conv1D()\n",
              "          (c_proj): Conv1D()\n",
              "          (act): NewGELUActivation()\n",
              "          (dropout): Dropout(p=0.1, inplace=False)\n",
              "        )\n",
              "      )\n",
              "      (8): GPT2Block(\n",
              "        (ln_1): LayerNorm((768,), eps=1e-05, elementwise_affine=True)\n",
              "        (attn): GPT2Attention(\n",
              "          (c_attn): Conv1D()\n",
              "          (c_proj): Conv1D()\n",
              "          (attn_dropout): Dropout(p=0.1, inplace=False)\n",
              "          (resid_dropout): Dropout(p=0.1, inplace=False)\n",
              "        )\n",
              "        (ln_2): LayerNorm((768,), eps=1e-05, elementwise_affine=True)\n",
              "        (mlp): GPT2MLP(\n",
              "          (c_fc): Conv1D()\n",
              "          (c_proj): Conv1D()\n",
              "          (act): NewGELUActivation()\n",
              "          (dropout): Dropout(p=0.1, inplace=False)\n",
              "        )\n",
              "      )\n",
              "      (9): GPT2Block(\n",
              "        (ln_1): LayerNorm((768,), eps=1e-05, elementwise_affine=True)\n",
              "        (attn): GPT2Attention(\n",
              "          (c_attn): Conv1D()\n",
              "          (c_proj): Conv1D()\n",
              "          (attn_dropout): Dropout(p=0.1, inplace=False)\n",
              "          (resid_dropout): Dropout(p=0.1, inplace=False)\n",
              "        )\n",
              "        (ln_2): LayerNorm((768,), eps=1e-05, elementwise_affine=True)\n",
              "        (mlp): GPT2MLP(\n",
              "          (c_fc): Conv1D()\n",
              "          (c_proj): Conv1D()\n",
              "          (act): NewGELUActivation()\n",
              "          (dropout): Dropout(p=0.1, inplace=False)\n",
              "        )\n",
              "      )\n",
              "      (10): GPT2Block(\n",
              "        (ln_1): LayerNorm((768,), eps=1e-05, elementwise_affine=True)\n",
              "        (attn): GPT2Attention(\n",
              "          (c_attn): Conv1D()\n",
              "          (c_proj): Conv1D()\n",
              "          (attn_dropout): Dropout(p=0.1, inplace=False)\n",
              "          (resid_dropout): Dropout(p=0.1, inplace=False)\n",
              "        )\n",
              "        (ln_2): LayerNorm((768,), eps=1e-05, elementwise_affine=True)\n",
              "        (mlp): GPT2MLP(\n",
              "          (c_fc): Conv1D()\n",
              "          (c_proj): Conv1D()\n",
              "          (act): NewGELUActivation()\n",
              "          (dropout): Dropout(p=0.1, inplace=False)\n",
              "        )\n",
              "      )\n",
              "      (11): GPT2Block(\n",
              "        (ln_1): LayerNorm((768,), eps=1e-05, elementwise_affine=True)\n",
              "        (attn): GPT2Attention(\n",
              "          (c_attn): Conv1D()\n",
              "          (c_proj): Conv1D()\n",
              "          (attn_dropout): Dropout(p=0.1, inplace=False)\n",
              "          (resid_dropout): Dropout(p=0.1, inplace=False)\n",
              "        )\n",
              "        (ln_2): LayerNorm((768,), eps=1e-05, elementwise_affine=True)\n",
              "        (mlp): GPT2MLP(\n",
              "          (c_fc): Conv1D()\n",
              "          (c_proj): Conv1D()\n",
              "          (act): NewGELUActivation()\n",
              "          (dropout): Dropout(p=0.1, inplace=False)\n",
              "        )\n",
              "      )\n",
              "    )\n",
              "    (ln_f): LayerNorm((768,), eps=1e-05, elementwise_affine=True)\n",
              "  )\n",
              "  (lm_head): Linear(in_features=768, out_features=50262, bias=False)\n",
              ")"
            ]
          },
          "metadata": {},
          "execution_count": 37
        }
      ]
    },
    {
      "cell_type": "markdown",
      "source": [
        "#### Generate samples\n",
        "\n",
        "Functionalities to generate textual samples in the different described configurations."
      ],
      "metadata": {
        "id": "RyfIYI0m5lry"
      }
    },
    {
      "cell_type": "code",
      "source": [
        "# Data for drop-down lists\n",
        "char_classes = [('', 0), ('Ranger', 1), ('Cleric', 2), ('Monk', 3), ('Paladin', 4), ('Wizard', 5), ('Bard', 6), ('Druid', 7), ('Sorcerer', 8), ('Fighter', 9), ('Rogue', 10), ('Witch', 11), ('Knight', 12),\n",
        "                ('Hunter', 13), ('Villager', 14)]\n",
        "\n",
        "char_races = [('', 0), ('Human', 1), ('Elf', 2), ('Half-elf', 3), ('Dark-elf', 4), ('Dragonborn', 5), ('Ogre', 6), ('Half-Ogre', 7), ('Gnome', 8), ('Minotaur', 9), ('Dwarf', 10), ('Goblin', 11)]"
      ],
      "metadata": {
        "id": "JS_HvgUA1i_s",
        "colab": {
          "base_uri": "https://localhost:8080/",
          "height": 17
        },
        "outputId": "a93061b5-3b21-461a-d663-6db3448fa564"
      },
      "execution_count": null,
      "outputs": [
        {
          "output_type": "display_data",
          "data": {
            "text/plain": [
              "<IPython.core.display.HTML object>"
            ],
            "text/html": [
              "\n",
              "  <style>\n",
              "    pre {\n",
              "        white-space: pre-wrap;\n",
              "    }\n",
              "  </style>\n",
              "  "
            ]
          },
          "metadata": {}
        }
      ]
    },
    {
      "cell_type": "markdown",
      "source": [
        "<br>![20.png](https://i.imgur.com/Qi8teH1.png\n",
        ")<br><br>"
      ],
      "metadata": {
        "id": "j0BZmAfsPl_o"
      }
    },
    {
      "cell_type": "markdown",
      "source": [
        "**Fantasy Generator** is a tool that allows to generate textual descriptions and background stories for fictional characters.\n",
        "<br>\n",
        "<br>\n",
        "<br>\n",
        "The key words concerning the character's class and race can be chosen from the drop-down lists. The lists were constructed based on the most-often occurring labels in the dataset.\n",
        "<br>\n",
        "<br>\n",
        "For more variability, the fields can be left empty. The model will generate the characteristics (race and class) by itself.\n",
        "<br>\n",
        "Character's race can be chosen, and the character's class can be left empty. However, if choosing the class, please choose the race as well, as this is the sequence in accordance to which the model was trained. \n",
        "<br>\n",
        "<br>\n",
        "The following configurations of text generation are available:<br>\n",
        "* Generation of the character's description, with optional key-words - Please press the \"Generate Description\" button to produce text.\n",
        "<br>\n",
        "* Generation of the character's backstory, with optional key-words - Please press the \"Generate Story\" button to produce text.\n",
        "<br>\n",
        "* Generation of the character's backstory, with optional prompt sentences - Please press the \"Generate Story 2\" button to produce text.\n",
        "<br>\n",
        "<br>"
      ],
      "metadata": {
        "id": "anDfZn7Sr4w-"
      }
    },
    {
      "cell_type": "markdown",
      "source": [
        "The key-words chosen at the beginning get transferred to the other functionalities automatically. To generate samples without key-words, please leave the drop-down lists empty (select first, empty item).<br>\n",
        "The characteristics (name, race, class) output during Description generation get transferred to the other functionalities as well. To produce background story without any keywords, please omit the Description generation and start from Story Generation.<br>\n",
        "To re-run all the configurations, please re-run the \"Generate samples\" code. <br><br>"
      ],
      "metadata": {
        "id": "Dia1a1aVo1lX"
      }
    },
    {
      "cell_type": "code",
      "source": [
        "#@title Selection: { display-mode: \"form\" }\n",
        "\n",
        "chosen_r = widgets.Dropdown(\n",
        "    options=char_races,\n",
        "    value=0,\n",
        "    description='Race:',\n",
        "    disabled=False,\n",
        ")\n",
        "\n",
        "chosen_r"
      ],
      "metadata": {
        "colab": {
          "base_uri": "https://localhost:8080/",
          "height": 49,
          "referenced_widgets": [
            "542a210bc39c4e3b8353804dfeec7333",
            "3bbde623cb414c85bfd30c56fcaff2bd",
            "492e3dfeb3174191bc5610e3e053229d"
          ]
        },
        "id": "EeIf25vzy1v_",
        "outputId": "6ac92c63-ccd1-4a50-f289-f0b4ea201fc7"
      },
      "execution_count": null,
      "outputs": [
        {
          "output_type": "display_data",
          "data": {
            "text/plain": [
              "<IPython.core.display.HTML object>"
            ],
            "text/html": [
              "\n",
              "  <style>\n",
              "    pre {\n",
              "        white-space: pre-wrap;\n",
              "    }\n",
              "  </style>\n",
              "  "
            ]
          },
          "metadata": {}
        },
        {
          "output_type": "display_data",
          "data": {
            "text/plain": [
              "Dropdown(description='Race:', options=(('', 0), ('Human', 1), ('Elf', 2), ('Half-elf', 3), ('Dark-elf', 4), ('…"
            ],
            "application/vnd.jupyter.widget-view+json": {
              "version_major": 2,
              "version_minor": 0,
              "model_id": "542a210bc39c4e3b8353804dfeec7333"
            }
          },
          "metadata": {}
        }
      ]
    },
    {
      "cell_type": "code",
      "source": [
        "#@title  { display-mode: \"form\" }\n",
        "chosen_c = widgets.Dropdown(\n",
        "    options=char_classes,\n",
        "    value=0,\n",
        "    description='Class:',\n",
        "    disabled=False,\n",
        ")\n",
        "\n",
        "chosen_c"
      ],
      "metadata": {
        "colab": {
          "base_uri": "https://localhost:8080/",
          "height": 49,
          "referenced_widgets": [
            "b7b08bf2e41c4de790d586d4d4bf94a7",
            "0ad3cb532a5444b9ad09464e9210feed",
            "c1e5dc3f9fd54cf5bad33e494d614393"
          ]
        },
        "id": "nacFZg2L5v58",
        "outputId": "92f3e938-806d-4326-d403-5940ea27dcbf"
      },
      "execution_count": null,
      "outputs": [
        {
          "output_type": "display_data",
          "data": {
            "text/plain": [
              "<IPython.core.display.HTML object>"
            ],
            "text/html": [
              "\n",
              "  <style>\n",
              "    pre {\n",
              "        white-space: pre-wrap;\n",
              "    }\n",
              "  </style>\n",
              "  "
            ]
          },
          "metadata": {}
        },
        {
          "output_type": "display_data",
          "data": {
            "text/plain": [
              "Dropdown(description='Class:', options=(('', 0), ('Ranger', 1), ('Cleric', 2), ('Monk', 3), ('Paladin', 4), ('…"
            ],
            "application/vnd.jupyter.widget-view+json": {
              "version_major": 2,
              "version_minor": 0,
              "model_id": "b7b08bf2e41c4de790d586d4d4bf94a7"
            }
          },
          "metadata": {}
        }
      ]
    },
    {
      "cell_type": "markdown",
      "source": [
        "<br>![20.png](https://i.imgur.com/YBzTqRq.png\n",
        ")<br><br>\n",
        "\n",
        "Please press the \"Generate Description\" button to generate a textual sample. "
      ],
      "metadata": {
        "id": "NDHyd1OQzMSa"
      }
    },
    {
      "cell_type": "code",
      "source": [
        "global name\n",
        "global race\n",
        "global charClass\n",
        "name = None\n",
        "race = None\n",
        "charClass = None\n",
        "def get_description(arg):\n",
        "    global name\n",
        "    global race\n",
        "    global charClass\n",
        "    \n",
        "    print(\"\")\n",
        "    print(\"Starting description generation...\")\n",
        "    print(\"\")\n",
        "    # Initially, prompt set to be empty\n",
        "    prompt = ' '\n",
        "    char_race = list(char_races[chosen_r.value])[0]\n",
        "    char_class = list(char_classes[chosen_c.value])[0]\n",
        "    # If race is not chosen and class is chosen\n",
        "    if chosen_r.value == 0 and chosen_c.value != 0:   \n",
        "        print(\"If selecting the character's class, please choose the character's race too. Alternatively, both fields can be left empty.\")\n",
        "        return     \n",
        "    # If race is chosen and class is not    \n",
        "    elif chosen_r.value != 0 and chosen_c.value == 0:        \n",
        "        prompt = SPECIAL_TOKENS['bos_token'] + char_race + \\\n",
        "         SPECIAL_TOKENS['sep_token'] \n",
        "    # If both characteristics are chosen\n",
        "    elif chosen_r.value != 0 and chosen_c.value != 0:\n",
        "        prompt = SPECIAL_TOKENS['bos_token'] + char_race + \\\n",
        "         SPECIAL_TOKENS['sep_token'] + char_class + SPECIAL_TOKENS['sep_token']\n",
        "\n",
        "    generated = torch.tensor(tokenizer1.encode(prompt)).unsqueeze(0)\n",
        "    device = torch.device(\"cuda\")\n",
        "    generated = generated.to(device)\n",
        "\n",
        "    gpt2_model_1.eval();\n",
        "\n",
        "    sample_outputs = gpt2_model_1.generate(generated, \n",
        "                                do_sample=True,   \n",
        "                                min_length=50, \n",
        "                                max_length=MAXLEN,\n",
        "                                top_k=30,                                 \n",
        "                                top_p=0.7,        \n",
        "                                temperature=0.9,\n",
        "                                repetition_penalty=2.0,\n",
        "                                num_return_sequences=1\n",
        "                                )\n",
        "\n",
        "    for i, sample_output in enumerate(sample_outputs):\n",
        "        text = tokenizer1.decode(sample_output, skip_special_tokens=False)\n",
        "        text = text.replace(\"<|BOS|>\", '')\n",
        "        text = text.replace(\"<|EOS|>\", '')\n",
        "        text = text.replace(\"<|PAD|>\", '')\n",
        "        # Split of SEP token\n",
        "        text = text.split(\"<|SEP|>\")\n",
        "        print(\"Name: \")\n",
        "        if(len(text) >= 3):\n",
        "            print(text[2])\n",
        "            name = text[2]\n",
        "        print(\"\")\n",
        "        print(\"Race: \")\n",
        "        if(len(text) >= 1):            \n",
        "            print(text[0].strip())\n",
        "            race = text[0].strip()\n",
        "        print(\"\")\n",
        "        print(\"Class: \")\n",
        "        if(len(text) >= 2):            \n",
        "            print(text[1])\n",
        "            charClass = text[1]\n",
        "        print(\"\")\n",
        "        print(\"Description: \")\n",
        "        if(len(text) >= 4):\n",
        "            print(text[3])\n",
        "        print(\"\")\n",
        "\n",
        "\n",
        "#@title Generate description\n",
        "button1 = widgets.Button(\n",
        "    description='Generate Description',\n",
        "    disabled=False,\n",
        "    button_style='', \n",
        "    tooltip='Generate',\n",
        "    icon='check'\n",
        ")\n",
        "\n",
        "button1\n"
      ],
      "metadata": {
        "colab": {
          "base_uri": "https://localhost:8080/",
          "height": 49,
          "referenced_widgets": [
            "c0d507f1329e4ed2a5ae19eb9760c3a6",
            "3e95bec17c564e5c84e464c0beda741f",
            "0a908fc6cf5d41ab876fd7a6d1733b05"
          ]
        },
        "id": "4J_olR_u0Ie4",
        "outputId": "40593103-605b-4318-f17c-4f75fdeb24d9",
        "cellView": "form"
      },
      "execution_count": null,
      "outputs": [
        {
          "output_type": "display_data",
          "data": {
            "text/plain": [
              "<IPython.core.display.HTML object>"
            ],
            "text/html": [
              "\n",
              "  <style>\n",
              "    pre {\n",
              "        white-space: pre-wrap;\n",
              "    }\n",
              "  </style>\n",
              "  "
            ]
          },
          "metadata": {}
        },
        {
          "output_type": "display_data",
          "data": {
            "text/plain": [
              "Button(description='Generate Description', icon='check', style=ButtonStyle(), tooltip='Generate')"
            ],
            "application/vnd.jupyter.widget-view+json": {
              "version_major": 2,
              "version_minor": 0,
              "model_id": "c0d507f1329e4ed2a5ae19eb9760c3a6"
            }
          },
          "metadata": {}
        }
      ]
    },
    {
      "cell_type": "code",
      "source": [
        "button1.on_click(get_description)\n"
      ],
      "metadata": {
        "colab": {
          "base_uri": "https://localhost:8080/",
          "height": 17
        },
        "id": "PJdk7ry91VRR",
        "outputId": "44c82020-df51-41ed-acd4-8c6c768aadb4"
      },
      "execution_count": null,
      "outputs": [
        {
          "output_type": "display_data",
          "data": {
            "text/plain": [
              "<IPython.core.display.HTML object>"
            ],
            "text/html": [
              "\n",
              "  <style>\n",
              "    pre {\n",
              "        white-space: pre-wrap;\n",
              "    }\n",
              "  </style>\n",
              "  "
            ]
          },
          "metadata": {}
        }
      ]
    },
    {
      "cell_type": "markdown",
      "source": [
        "<br>![20.png](https://i.imgur.com/2kt6ZC1.png\n",
        ")<br><br>\n",
        "\n",
        "Please press the \"Generate Story\" button to generate a textual sample."
      ],
      "metadata": {
        "id": "I_J78R3IzQTq"
      }
    },
    {
      "cell_type": "code",
      "source": [
        "global bg_story\n",
        "def get_background(arg):\n",
        "    global bg_story\n",
        "    \n",
        "    print(\"\")\n",
        "    print(\"Starting story generation...\")\n",
        "    print(\"\")\n",
        "    # Initially, prompt is empty\n",
        "    prompt = ' '   \n",
        "    # Structure the prompt with special key words (character type)\n",
        "    # Keywords are supplied based on the previous outcomes\n",
        "    if not(race==None) and not(charClass==None) and not(name==None):\n",
        "        prompt = SPECIAL_TOKENS['bos_token'] + race + \\\n",
        "                SPECIAL_TOKENS['sep_token'] + charClass + SPECIAL_TOKENS['sep_token'] + \\\n",
        "                name + SPECIAL_TOKENS['sep_token'] \n",
        "            \n",
        "    generated = torch.tensor(tokenizer2.encode(prompt)).unsqueeze(0)\n",
        "    device = torch.device(\"cuda\")\n",
        "    generated = generated.to(device)\n",
        "\n",
        "    gpt2_model_2.eval();\n",
        "\n",
        "    # Output samples based on the prompt\n",
        "    sample_outputs = gpt2_model_2.generate(generated, \n",
        "                                    do_sample=True,   \n",
        "                                    min_length=50, \n",
        "                                    max_length=MAXLEN,\n",
        "                                    top_k=30,                                 \n",
        "                                    top_p=0.7,        \n",
        "                                    temperature=0.9,\n",
        "                                    repetition_penalty=2.0,\n",
        "                                    num_return_sequences=1\n",
        "                                    )\n",
        "\n",
        "    for i, sample_output in enumerate(sample_outputs):\n",
        "        text = tokenizer2.decode(sample_output, skip_special_tokens=False)\n",
        "        text = text.replace(\"<|BOS|>\", '')\n",
        "        text = text.replace(\"<|EOS|>\", '')\n",
        "        text = text.replace(\"<|PAD|>\", '')\n",
        "        text = text.replace(\"<|SEP|>\", \" - \")\n",
        "        print(\"{}: {}\\n\\n\".format(i+1,  text))\n",
        "\n",
        "\n",
        "#@title Generate Background Story\n",
        "button2 = widgets.Button(\n",
        "    description='Generate Story',\n",
        "    disabled=False,\n",
        "    button_style='', \n",
        "    tooltip='Generate',\n",
        "    icon='check'\n",
        ")\n",
        "\n",
        "button2"
      ],
      "metadata": {
        "colab": {
          "base_uri": "https://localhost:8080/",
          "height": 49,
          "referenced_widgets": [
            "ebfc67351e4745c1a3c5de0d4d73e855",
            "289539d36ffd485d93f62de811d87286",
            "7c78ab02ea5841ec879a9154aa05d42b"
          ]
        },
        "id": "_DADQPwsGVGq",
        "outputId": "a2637263-0053-4a86-aa51-e95f25d7d7ab",
        "cellView": "form"
      },
      "execution_count": null,
      "outputs": [
        {
          "output_type": "display_data",
          "data": {
            "text/plain": [
              "<IPython.core.display.HTML object>"
            ],
            "text/html": [
              "\n",
              "  <style>\n",
              "    pre {\n",
              "        white-space: pre-wrap;\n",
              "    }\n",
              "  </style>\n",
              "  "
            ]
          },
          "metadata": {}
        },
        {
          "output_type": "display_data",
          "data": {
            "text/plain": [
              "Button(description='Generate Story', icon='check', style=ButtonStyle(), tooltip='Generate')"
            ],
            "application/vnd.jupyter.widget-view+json": {
              "version_major": 2,
              "version_minor": 0,
              "model_id": "ebfc67351e4745c1a3c5de0d4d73e855"
            }
          },
          "metadata": {}
        }
      ]
    },
    {
      "cell_type": "code",
      "source": [
        "button2.on_click(get_background)"
      ],
      "metadata": {
        "colab": {
          "base_uri": "https://localhost:8080/",
          "height": 17
        },
        "id": "wTYodKQn0g-w",
        "outputId": "d1ae0e9d-3158-491c-ca1a-56bb8f024654",
        "cellView": "code"
      },
      "execution_count": null,
      "outputs": [
        {
          "output_type": "display_data",
          "data": {
            "text/plain": [
              "<IPython.core.display.HTML object>"
            ],
            "text/html": [
              "\n",
              "  <style>\n",
              "    pre {\n",
              "        white-space: pre-wrap;\n",
              "    }\n",
              "  </style>\n",
              "  "
            ]
          },
          "metadata": {}
        }
      ]
    },
    {
      "cell_type": "code",
      "source": [
        "#@title Additional story generation\n",
        "#@markdown Please enter the introductory sentence in the text area below and press the \"Generate Stories\" to prompt the story generation. \n",
        "#@markdown Alternatively, leave the text area empty to allow for an increased variability.\n",
        "def generate_stories(arg):\n",
        "    user_input = txtarea.value\n",
        "\n",
        "    print(\"\")\n",
        "    print(\"Starting story generation...\")\n",
        "    print(\"\")\n",
        "\n",
        "    prompt = ' '\n",
        "\n",
        "    if not(race==None) and not(charClass==None) and not(name==None):\n",
        "        prompt = SPECIAL_TOKENS['bos_token'] + race + \\\n",
        "                SPECIAL_TOKENS['sep_token'] + charClass + SPECIAL_TOKENS['sep_token'] + \\\n",
        "                name + SPECIAL_TOKENS['sep_token'] + \\\n",
        "                user_input\n",
        "    if not(user_input == ' ') and not(user_input == '') and not(user_input=='None'):\n",
        "        prompt = SPECIAL_TOKENS['bos_token'] + \" \" + \\\n",
        "                SPECIAL_TOKENS['sep_token'] + \" \" + SPECIAL_TOKENS['sep_token'] + \\\n",
        "                \" \" + SPECIAL_TOKENS['sep_token'] + \\\n",
        "                user_input\n",
        "            \n",
        "    generated = torch.tensor(tokenizer2.encode(prompt)).unsqueeze(0)\n",
        "    device = torch.device(\"cuda\")\n",
        "    generated = generated.to(device)\n",
        "\n",
        "    gpt2_model_2.eval();\n",
        "\n",
        "    # Output samples based on the prompt\n",
        "    sample_outputs = gpt2_model_2.generate(generated, \n",
        "                                    do_sample=True,   \n",
        "                                    min_length=50, \n",
        "                                    max_length=MAXLEN,\n",
        "                                    top_k=30,                                 \n",
        "                                    top_p=0.7,        \n",
        "                                    temperature=0.9,\n",
        "                                    repetition_penalty=2.0,\n",
        "                                    num_return_sequences=1\n",
        "                                    )\n",
        "\n",
        "    for i, sample_output in enumerate(sample_outputs):\n",
        "        text = tokenizer2.decode(sample_output, skip_special_tokens=False)\n",
        "        text = text.replace(\"<|BOS|>\", '')\n",
        "        text = text.replace(\"<|EOS|>\", '')\n",
        "        text = text.replace(\"<|PAD|>\", '')\n",
        "        if not(user_input == ' ') and not(user_input == '') and not(user_input=='None'):\n",
        "            text = text.replace(\"<|SEP|>\", \"\")\n",
        "        else: \n",
        "            text = text.replace(\"<|SEP|>\", \" - \")\n",
        "        print(\"{}: {}\\n\\n\".format(i+1,  text))\n",
        "            \n",
        "\n",
        "\n",
        "# Define widgets\n",
        "txtarea = widgets.Textarea(\n",
        "    value='',\n",
        "    placeholder='Enter prompt',\n",
        "    description='Enter prompt',\n",
        "    disabled=False\n",
        ")\n",
        "\n",
        "#@ Generate stories\n",
        "button3 = widgets.Button(\n",
        "    description='Generate Story 2',\n",
        "    disabled=False,\n",
        "    button_style='', \n",
        "    tooltip='Generate',\n",
        "    icon='check'\n",
        ")\n",
        "\n"
      ],
      "metadata": {
        "colab": {
          "base_uri": "https://localhost:8080/",
          "height": 17
        },
        "id": "DoSd-Za-HljC",
        "outputId": "32ab9998-e673-46c3-8aff-a37baef1be64",
        "cellView": "form"
      },
      "execution_count": null,
      "outputs": [
        {
          "output_type": "display_data",
          "data": {
            "text/plain": [
              "<IPython.core.display.HTML object>"
            ],
            "text/html": [
              "\n",
              "  <style>\n",
              "    pre {\n",
              "        white-space: pre-wrap;\n",
              "    }\n",
              "  </style>\n",
              "  "
            ]
          },
          "metadata": {}
        }
      ]
    },
    {
      "cell_type": "code",
      "source": [
        "# Prompt sentence can be entered in the text area placed below, e.g. \"He fell sick.\"\n",
        "txtarea\n"
      ],
      "metadata": {
        "colab": {
          "base_uri": "https://localhost:8080/",
          "height": 62,
          "referenced_widgets": [
            "6c757afc814946089533249199a61923",
            "7d26364546fe48f7bb4a74191943be49",
            "b4cebc3b97714278937ebcf813c22cb8"
          ]
        },
        "id": "l7YGymFmus5Z",
        "outputId": "774d82e0-3e1f-4a0a-9b93-b5d9631f0751"
      },
      "execution_count": null,
      "outputs": [
        {
          "output_type": "display_data",
          "data": {
            "text/plain": [
              "<IPython.core.display.HTML object>"
            ],
            "text/html": [
              "\n",
              "  <style>\n",
              "    pre {\n",
              "        white-space: pre-wrap;\n",
              "    }\n",
              "  </style>\n",
              "  "
            ]
          },
          "metadata": {}
        },
        {
          "output_type": "display_data",
          "data": {
            "text/plain": [
              "Textarea(value='', description='Enter prompt', placeholder='Enter prompt')"
            ],
            "application/vnd.jupyter.widget-view+json": {
              "version_major": 2,
              "version_minor": 0,
              "model_id": "6c757afc814946089533249199a61923"
            }
          },
          "metadata": {}
        }
      ]
    },
    {
      "cell_type": "code",
      "source": [
        "# To process the text from the text area and generate a story, please press the button below\n",
        "button3\n"
      ],
      "metadata": {
        "colab": {
          "base_uri": "https://localhost:8080/",
          "height": 49,
          "referenced_widgets": [
            "53cc38f4701a4c4f8cd3c98867761cff",
            "64fbf52e2b6b4a298ba9e4f3af1cb8e6",
            "085f5576a52a49ce8e9a5d97844b1079"
          ]
        },
        "id": "94NMuFYxutap",
        "outputId": "62db892b-1af4-45f6-d87d-9f7d815beee4"
      },
      "execution_count": null,
      "outputs": [
        {
          "output_type": "display_data",
          "data": {
            "text/plain": [
              "<IPython.core.display.HTML object>"
            ],
            "text/html": [
              "\n",
              "  <style>\n",
              "    pre {\n",
              "        white-space: pre-wrap;\n",
              "    }\n",
              "  </style>\n",
              "  "
            ]
          },
          "metadata": {}
        },
        {
          "output_type": "display_data",
          "data": {
            "text/plain": [
              "Button(description='Generate Story 2', icon='check', style=ButtonStyle(), tooltip='Generate')"
            ],
            "application/vnd.jupyter.widget-view+json": {
              "version_major": 2,
              "version_minor": 0,
              "model_id": "53cc38f4701a4c4f8cd3c98867761cff"
            }
          },
          "metadata": {}
        }
      ]
    },
    {
      "cell_type": "code",
      "source": [
        "button3.on_click(generate_stories)"
      ],
      "metadata": {
        "colab": {
          "base_uri": "https://localhost:8080/",
          "height": 17
        },
        "id": "Q2pDSuT3u0FD",
        "outputId": "05a3cdb1-25e5-47ef-afde-b94269f5006f"
      },
      "execution_count": null,
      "outputs": [
        {
          "output_type": "display_data",
          "data": {
            "text/plain": [
              "<IPython.core.display.HTML object>"
            ],
            "text/html": [
              "\n",
              "  <style>\n",
              "    pre {\n",
              "        white-space: pre-wrap;\n",
              "    }\n",
              "  </style>\n",
              "  "
            ]
          },
          "metadata": {}
        }
      ]
    }
  ]
}